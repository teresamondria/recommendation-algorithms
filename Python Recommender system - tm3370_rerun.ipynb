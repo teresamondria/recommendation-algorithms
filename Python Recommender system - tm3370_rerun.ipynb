{
 "cells": [
  {
   "cell_type": "markdown",
   "id": "e73b817d",
   "metadata": {},
   "source": [
    "# How can streaming platforms recommend you movies?"
   ]
  },
  {
   "cell_type": "markdown",
   "id": "56123472",
   "metadata": {},
   "source": [
    "**by Teresa Mondria Terol - tm3370**"
   ]
  },
  {
   "cell_type": "markdown",
   "id": "372faf90",
   "metadata": {},
   "source": [
    "Who chooses what we end up watching on Netflix, Netflix or ourselves?How do recommendation systems work? Streaming platform's algorithms are black boxes, so there is no proper or public way to actually discover it, but we can try to come up with a simple recommender system in Python to get a better understanding on how does it work.  "
   ]
  },
  {
   "cell_type": "markdown",
   "id": "d06ab900",
   "metadata": {},
   "source": [
    "For this project, I have done a deep dive into how recommendation systems work in theory, which mathematical foundations are they based on (I'm a Maths+Journalism graduate, so that previous knowledge in algebra and calculos was really useful), and which techniques are normally used to build simple recommenders from scratch. \n",
    "\n",
    "I got the data from The Movie Database and MovieLense, two extensive databases of movies used for educational purposes. The first one has a more robust system of rating, which is better for some types of social recommendations, as well as text summaries of each movie, which will be used in content-based recommendations. The second database has information about default users that will enable us to try a collaborative-based recommender approach. \n",
    "\n",
    "Through the whole project, I will be explaining how the code works, but also the theory behind it, since it is really important to understand the underlying mechanisms in order to be able to choose the right recommender for our system, be it a platform, an e-commerce, or a personalized service. So this has implications in business we must identify. But trying it out with movies seems more fun. \n",
    "\n",
    "The data can be found here: \n",
    "\n",
    "https://www.kaggle.com/datasets/tmdb/tmdb-movie-metadata\n",
    "\n",
    "https://grouplens.org/datasets/movielens/100k/\n"
   ]
  },
  {
   "cell_type": "markdown",
   "id": "8bb145e0",
   "metadata": {},
   "source": [
    "## Upload the dataset and basic libraries"
   ]
  },
  {
   "cell_type": "code",
   "execution_count": 1,
   "id": "f1e54777",
   "metadata": {},
   "outputs": [],
   "source": [
    "import pandas as pd"
   ]
  },
  {
   "cell_type": "code",
   "execution_count": 2,
   "id": "9da2386b",
   "metadata": {},
   "outputs": [],
   "source": [
    "df_films=pd.read_csv('data/films.csv')\n",
    "df_productions=pd.read_csv('data/productions.csv')"
   ]
  },
  {
   "cell_type": "markdown",
   "id": "022c322d",
   "metadata": {},
   "source": [
    "Let's join the two dataframes in one by looking at a common column. "
   ]
  },
  {
   "cell_type": "code",
   "execution_count": 3,
   "id": "3bf7ff8d",
   "metadata": {
    "scrolled": true
   },
   "outputs": [
    {
     "data": {
      "text/html": [
       "<div>\n",
       "<style scoped>\n",
       "    .dataframe tbody tr th:only-of-type {\n",
       "        vertical-align: middle;\n",
       "    }\n",
       "\n",
       "    .dataframe tbody tr th {\n",
       "        vertical-align: top;\n",
       "    }\n",
       "\n",
       "    .dataframe thead th {\n",
       "        text-align: right;\n",
       "    }\n",
       "</style>\n",
       "<table border=\"1\" class=\"dataframe\">\n",
       "  <thead>\n",
       "    <tr style=\"text-align: right;\">\n",
       "      <th></th>\n",
       "      <th>budget</th>\n",
       "      <th>genres</th>\n",
       "      <th>homepage</th>\n",
       "      <th>id</th>\n",
       "      <th>keywords</th>\n",
       "      <th>original_language</th>\n",
       "      <th>original_title</th>\n",
       "      <th>overview</th>\n",
       "      <th>popularity</th>\n",
       "      <th>production_companies</th>\n",
       "      <th>production_countries</th>\n",
       "      <th>release_date</th>\n",
       "      <th>revenue</th>\n",
       "      <th>runtime</th>\n",
       "      <th>spoken_languages</th>\n",
       "      <th>status</th>\n",
       "      <th>tagline</th>\n",
       "      <th>title</th>\n",
       "      <th>vote_average</th>\n",
       "      <th>vote_count</th>\n",
       "    </tr>\n",
       "  </thead>\n",
       "  <tbody>\n",
       "    <tr>\n",
       "      <th>0</th>\n",
       "      <td>237000000</td>\n",
       "      <td>[{\"id\": 28, \"name\": \"Action\"}, {\"id\": 12, \"nam...</td>\n",
       "      <td>http://www.avatarmovie.com/</td>\n",
       "      <td>19995</td>\n",
       "      <td>[{\"id\": 1463, \"name\": \"culture clash\"}, {\"id\":...</td>\n",
       "      <td>en</td>\n",
       "      <td>Avatar</td>\n",
       "      <td>In the 22nd century, a paraplegic Marine is di...</td>\n",
       "      <td>150.437577</td>\n",
       "      <td>[{\"name\": \"Ingenious Film Partners\", \"id\": 289...</td>\n",
       "      <td>[{\"iso_3166_1\": \"US\", \"name\": \"United States o...</td>\n",
       "      <td>2009-12-10</td>\n",
       "      <td>2787965087</td>\n",
       "      <td>162.0</td>\n",
       "      <td>[{\"iso_639_1\": \"en\", \"name\": \"English\"}, {\"iso...</td>\n",
       "      <td>Released</td>\n",
       "      <td>Enter the World of Pandora.</td>\n",
       "      <td>Avatar</td>\n",
       "      <td>7.2</td>\n",
       "      <td>11800</td>\n",
       "    </tr>\n",
       "    <tr>\n",
       "      <th>1</th>\n",
       "      <td>300000000</td>\n",
       "      <td>[{\"id\": 12, \"name\": \"Adventure\"}, {\"id\": 14, \"...</td>\n",
       "      <td>http://disney.go.com/disneypictures/pirates/</td>\n",
       "      <td>285</td>\n",
       "      <td>[{\"id\": 270, \"name\": \"ocean\"}, {\"id\": 726, \"na...</td>\n",
       "      <td>en</td>\n",
       "      <td>Pirates of the Caribbean: At World's End</td>\n",
       "      <td>Captain Barbossa, long believed to be dead, ha...</td>\n",
       "      <td>139.082615</td>\n",
       "      <td>[{\"name\": \"Walt Disney Pictures\", \"id\": 2}, {\"...</td>\n",
       "      <td>[{\"iso_3166_1\": \"US\", \"name\": \"United States o...</td>\n",
       "      <td>2007-05-19</td>\n",
       "      <td>961000000</td>\n",
       "      <td>169.0</td>\n",
       "      <td>[{\"iso_639_1\": \"en\", \"name\": \"English\"}]</td>\n",
       "      <td>Released</td>\n",
       "      <td>At the end of the world, the adventure begins.</td>\n",
       "      <td>Pirates of the Caribbean: At World's End</td>\n",
       "      <td>6.9</td>\n",
       "      <td>4500</td>\n",
       "    </tr>\n",
       "    <tr>\n",
       "      <th>2</th>\n",
       "      <td>245000000</td>\n",
       "      <td>[{\"id\": 28, \"name\": \"Action\"}, {\"id\": 12, \"nam...</td>\n",
       "      <td>http://www.sonypictures.com/movies/spectre/</td>\n",
       "      <td>206647</td>\n",
       "      <td>[{\"id\": 470, \"name\": \"spy\"}, {\"id\": 818, \"name...</td>\n",
       "      <td>en</td>\n",
       "      <td>Spectre</td>\n",
       "      <td>A cryptic message from Bond’s past sends him o...</td>\n",
       "      <td>107.376788</td>\n",
       "      <td>[{\"name\": \"Columbia Pictures\", \"id\": 5}, {\"nam...</td>\n",
       "      <td>[{\"iso_3166_1\": \"GB\", \"name\": \"United Kingdom\"...</td>\n",
       "      <td>2015-10-26</td>\n",
       "      <td>880674609</td>\n",
       "      <td>148.0</td>\n",
       "      <td>[{\"iso_639_1\": \"fr\", \"name\": \"Fran\\u00e7ais\"},...</td>\n",
       "      <td>Released</td>\n",
       "      <td>A Plan No One Escapes</td>\n",
       "      <td>Spectre</td>\n",
       "      <td>6.3</td>\n",
       "      <td>4466</td>\n",
       "    </tr>\n",
       "    <tr>\n",
       "      <th>3</th>\n",
       "      <td>250000000</td>\n",
       "      <td>[{\"id\": 28, \"name\": \"Action\"}, {\"id\": 80, \"nam...</td>\n",
       "      <td>http://www.thedarkknightrises.com/</td>\n",
       "      <td>49026</td>\n",
       "      <td>[{\"id\": 849, \"name\": \"dc comics\"}, {\"id\": 853,...</td>\n",
       "      <td>en</td>\n",
       "      <td>The Dark Knight Rises</td>\n",
       "      <td>Following the death of District Attorney Harve...</td>\n",
       "      <td>112.312950</td>\n",
       "      <td>[{\"name\": \"Legendary Pictures\", \"id\": 923}, {\"...</td>\n",
       "      <td>[{\"iso_3166_1\": \"US\", \"name\": \"United States o...</td>\n",
       "      <td>2012-07-16</td>\n",
       "      <td>1084939099</td>\n",
       "      <td>165.0</td>\n",
       "      <td>[{\"iso_639_1\": \"en\", \"name\": \"English\"}]</td>\n",
       "      <td>Released</td>\n",
       "      <td>The Legend Ends</td>\n",
       "      <td>The Dark Knight Rises</td>\n",
       "      <td>7.6</td>\n",
       "      <td>9106</td>\n",
       "    </tr>\n",
       "    <tr>\n",
       "      <th>4</th>\n",
       "      <td>260000000</td>\n",
       "      <td>[{\"id\": 28, \"name\": \"Action\"}, {\"id\": 12, \"nam...</td>\n",
       "      <td>http://movies.disney.com/john-carter</td>\n",
       "      <td>49529</td>\n",
       "      <td>[{\"id\": 818, \"name\": \"based on novel\"}, {\"id\":...</td>\n",
       "      <td>en</td>\n",
       "      <td>John Carter</td>\n",
       "      <td>John Carter is a war-weary, former military ca...</td>\n",
       "      <td>43.926995</td>\n",
       "      <td>[{\"name\": \"Walt Disney Pictures\", \"id\": 2}]</td>\n",
       "      <td>[{\"iso_3166_1\": \"US\", \"name\": \"United States o...</td>\n",
       "      <td>2012-03-07</td>\n",
       "      <td>284139100</td>\n",
       "      <td>132.0</td>\n",
       "      <td>[{\"iso_639_1\": \"en\", \"name\": \"English\"}]</td>\n",
       "      <td>Released</td>\n",
       "      <td>Lost in our world, found in another.</td>\n",
       "      <td>John Carter</td>\n",
       "      <td>6.1</td>\n",
       "      <td>2124</td>\n",
       "    </tr>\n",
       "  </tbody>\n",
       "</table>\n",
       "</div>"
      ],
      "text/plain": [
       "      budget                                             genres  \\\n",
       "0  237000000  [{\"id\": 28, \"name\": \"Action\"}, {\"id\": 12, \"nam...   \n",
       "1  300000000  [{\"id\": 12, \"name\": \"Adventure\"}, {\"id\": 14, \"...   \n",
       "2  245000000  [{\"id\": 28, \"name\": \"Action\"}, {\"id\": 12, \"nam...   \n",
       "3  250000000  [{\"id\": 28, \"name\": \"Action\"}, {\"id\": 80, \"nam...   \n",
       "4  260000000  [{\"id\": 28, \"name\": \"Action\"}, {\"id\": 12, \"nam...   \n",
       "\n",
       "                                       homepage      id  \\\n",
       "0                   http://www.avatarmovie.com/   19995   \n",
       "1  http://disney.go.com/disneypictures/pirates/     285   \n",
       "2   http://www.sonypictures.com/movies/spectre/  206647   \n",
       "3            http://www.thedarkknightrises.com/   49026   \n",
       "4          http://movies.disney.com/john-carter   49529   \n",
       "\n",
       "                                            keywords original_language  \\\n",
       "0  [{\"id\": 1463, \"name\": \"culture clash\"}, {\"id\":...                en   \n",
       "1  [{\"id\": 270, \"name\": \"ocean\"}, {\"id\": 726, \"na...                en   \n",
       "2  [{\"id\": 470, \"name\": \"spy\"}, {\"id\": 818, \"name...                en   \n",
       "3  [{\"id\": 849, \"name\": \"dc comics\"}, {\"id\": 853,...                en   \n",
       "4  [{\"id\": 818, \"name\": \"based on novel\"}, {\"id\":...                en   \n",
       "\n",
       "                             original_title  \\\n",
       "0                                    Avatar   \n",
       "1  Pirates of the Caribbean: At World's End   \n",
       "2                                   Spectre   \n",
       "3                     The Dark Knight Rises   \n",
       "4                               John Carter   \n",
       "\n",
       "                                            overview  popularity  \\\n",
       "0  In the 22nd century, a paraplegic Marine is di...  150.437577   \n",
       "1  Captain Barbossa, long believed to be dead, ha...  139.082615   \n",
       "2  A cryptic message from Bond’s past sends him o...  107.376788   \n",
       "3  Following the death of District Attorney Harve...  112.312950   \n",
       "4  John Carter is a war-weary, former military ca...   43.926995   \n",
       "\n",
       "                                production_companies  \\\n",
       "0  [{\"name\": \"Ingenious Film Partners\", \"id\": 289...   \n",
       "1  [{\"name\": \"Walt Disney Pictures\", \"id\": 2}, {\"...   \n",
       "2  [{\"name\": \"Columbia Pictures\", \"id\": 5}, {\"nam...   \n",
       "3  [{\"name\": \"Legendary Pictures\", \"id\": 923}, {\"...   \n",
       "4        [{\"name\": \"Walt Disney Pictures\", \"id\": 2}]   \n",
       "\n",
       "                                production_countries release_date     revenue  \\\n",
       "0  [{\"iso_3166_1\": \"US\", \"name\": \"United States o...   2009-12-10  2787965087   \n",
       "1  [{\"iso_3166_1\": \"US\", \"name\": \"United States o...   2007-05-19   961000000   \n",
       "2  [{\"iso_3166_1\": \"GB\", \"name\": \"United Kingdom\"...   2015-10-26   880674609   \n",
       "3  [{\"iso_3166_1\": \"US\", \"name\": \"United States o...   2012-07-16  1084939099   \n",
       "4  [{\"iso_3166_1\": \"US\", \"name\": \"United States o...   2012-03-07   284139100   \n",
       "\n",
       "   runtime                                   spoken_languages    status  \\\n",
       "0    162.0  [{\"iso_639_1\": \"en\", \"name\": \"English\"}, {\"iso...  Released   \n",
       "1    169.0           [{\"iso_639_1\": \"en\", \"name\": \"English\"}]  Released   \n",
       "2    148.0  [{\"iso_639_1\": \"fr\", \"name\": \"Fran\\u00e7ais\"},...  Released   \n",
       "3    165.0           [{\"iso_639_1\": \"en\", \"name\": \"English\"}]  Released   \n",
       "4    132.0           [{\"iso_639_1\": \"en\", \"name\": \"English\"}]  Released   \n",
       "\n",
       "                                          tagline  \\\n",
       "0                     Enter the World of Pandora.   \n",
       "1  At the end of the world, the adventure begins.   \n",
       "2                           A Plan No One Escapes   \n",
       "3                                 The Legend Ends   \n",
       "4            Lost in our world, found in another.   \n",
       "\n",
       "                                      title  vote_average  vote_count  \n",
       "0                                    Avatar           7.2       11800  \n",
       "1  Pirates of the Caribbean: At World's End           6.9        4500  \n",
       "2                                   Spectre           6.3        4466  \n",
       "3                     The Dark Knight Rises           7.6        9106  \n",
       "4                               John Carter           6.1        2124  "
      ]
     },
     "execution_count": 3,
     "metadata": {},
     "output_type": "execute_result"
    }
   ],
   "source": [
    "df_films.head()"
   ]
  },
  {
   "cell_type": "code",
   "execution_count": 4,
   "id": "19602232",
   "metadata": {
    "scrolled": true
   },
   "outputs": [
    {
     "data": {
      "text/html": [
       "<div>\n",
       "<style scoped>\n",
       "    .dataframe tbody tr th:only-of-type {\n",
       "        vertical-align: middle;\n",
       "    }\n",
       "\n",
       "    .dataframe tbody tr th {\n",
       "        vertical-align: top;\n",
       "    }\n",
       "\n",
       "    .dataframe thead th {\n",
       "        text-align: right;\n",
       "    }\n",
       "</style>\n",
       "<table border=\"1\" class=\"dataframe\">\n",
       "  <thead>\n",
       "    <tr style=\"text-align: right;\">\n",
       "      <th></th>\n",
       "      <th>movie_id</th>\n",
       "      <th>title</th>\n",
       "      <th>cast</th>\n",
       "      <th>crew</th>\n",
       "    </tr>\n",
       "  </thead>\n",
       "  <tbody>\n",
       "    <tr>\n",
       "      <th>0</th>\n",
       "      <td>19995</td>\n",
       "      <td>Avatar</td>\n",
       "      <td>[{\"cast_id\": 242, \"character\": \"Jake Sully\", \"...</td>\n",
       "      <td>[{\"credit_id\": \"52fe48009251416c750aca23\", \"de...</td>\n",
       "    </tr>\n",
       "    <tr>\n",
       "      <th>1</th>\n",
       "      <td>285</td>\n",
       "      <td>Pirates of the Caribbean: At World's End</td>\n",
       "      <td>[{\"cast_id\": 4, \"character\": \"Captain Jack Spa...</td>\n",
       "      <td>[{\"credit_id\": \"52fe4232c3a36847f800b579\", \"de...</td>\n",
       "    </tr>\n",
       "    <tr>\n",
       "      <th>2</th>\n",
       "      <td>206647</td>\n",
       "      <td>Spectre</td>\n",
       "      <td>[{\"cast_id\": 1, \"character\": \"James Bond\", \"cr...</td>\n",
       "      <td>[{\"credit_id\": \"54805967c3a36829b5002c41\", \"de...</td>\n",
       "    </tr>\n",
       "    <tr>\n",
       "      <th>3</th>\n",
       "      <td>49026</td>\n",
       "      <td>The Dark Knight Rises</td>\n",
       "      <td>[{\"cast_id\": 2, \"character\": \"Bruce Wayne / Ba...</td>\n",
       "      <td>[{\"credit_id\": \"52fe4781c3a36847f81398c3\", \"de...</td>\n",
       "    </tr>\n",
       "    <tr>\n",
       "      <th>4</th>\n",
       "      <td>49529</td>\n",
       "      <td>John Carter</td>\n",
       "      <td>[{\"cast_id\": 5, \"character\": \"John Carter\", \"c...</td>\n",
       "      <td>[{\"credit_id\": \"52fe479ac3a36847f813eaa3\", \"de...</td>\n",
       "    </tr>\n",
       "  </tbody>\n",
       "</table>\n",
       "</div>"
      ],
      "text/plain": [
       "   movie_id                                     title  \\\n",
       "0     19995                                    Avatar   \n",
       "1       285  Pirates of the Caribbean: At World's End   \n",
       "2    206647                                   Spectre   \n",
       "3     49026                     The Dark Knight Rises   \n",
       "4     49529                               John Carter   \n",
       "\n",
       "                                                cast  \\\n",
       "0  [{\"cast_id\": 242, \"character\": \"Jake Sully\", \"...   \n",
       "1  [{\"cast_id\": 4, \"character\": \"Captain Jack Spa...   \n",
       "2  [{\"cast_id\": 1, \"character\": \"James Bond\", \"cr...   \n",
       "3  [{\"cast_id\": 2, \"character\": \"Bruce Wayne / Ba...   \n",
       "4  [{\"cast_id\": 5, \"character\": \"John Carter\", \"c...   \n",
       "\n",
       "                                                crew  \n",
       "0  [{\"credit_id\": \"52fe48009251416c750aca23\", \"de...  \n",
       "1  [{\"credit_id\": \"52fe4232c3a36847f800b579\", \"de...  \n",
       "2  [{\"credit_id\": \"54805967c3a36829b5002c41\", \"de...  \n",
       "3  [{\"credit_id\": \"52fe4781c3a36847f81398c3\", \"de...  \n",
       "4  [{\"credit_id\": \"52fe479ac3a36847f813eaa3\", \"de...  "
      ]
     },
     "execution_count": 4,
     "metadata": {},
     "output_type": "execute_result"
    }
   ],
   "source": [
    "df_productions.head()"
   ]
  },
  {
   "cell_type": "markdown",
   "id": "8b1bbc2e",
   "metadata": {},
   "source": [
    "The column is the same one but named differently, so we can rename the column in one of the dataframes to match the other one. "
   ]
  },
  {
   "cell_type": "code",
   "execution_count": 5,
   "id": "f9742b31",
   "metadata": {
    "scrolled": true
   },
   "outputs": [],
   "source": [
    "df_films.rename(columns={'id': 'movie_id'}, inplace=True)"
   ]
  },
  {
   "cell_type": "markdown",
   "id": "6c152b00",
   "metadata": {},
   "source": [
    "Now, we can merge both on the column movie_id."
   ]
  },
  {
   "cell_type": "code",
   "execution_count": 6,
   "id": "1759111e",
   "metadata": {},
   "outputs": [],
   "source": [
    "df_films=df_films.merge(df_productions, on = 'movie_id')"
   ]
  },
  {
   "cell_type": "markdown",
   "id": "450f1ede",
   "metadata": {},
   "source": [
    "Let's take a look to see if it was correctly done by looking at the head of the df. "
   ]
  },
  {
   "cell_type": "code",
   "execution_count": 7,
   "id": "af37b7c2",
   "metadata": {},
   "outputs": [
    {
     "data": {
      "text/html": [
       "<div>\n",
       "<style scoped>\n",
       "    .dataframe tbody tr th:only-of-type {\n",
       "        vertical-align: middle;\n",
       "    }\n",
       "\n",
       "    .dataframe tbody tr th {\n",
       "        vertical-align: top;\n",
       "    }\n",
       "\n",
       "    .dataframe thead th {\n",
       "        text-align: right;\n",
       "    }\n",
       "</style>\n",
       "<table border=\"1\" class=\"dataframe\">\n",
       "  <thead>\n",
       "    <tr style=\"text-align: right;\">\n",
       "      <th></th>\n",
       "      <th>budget</th>\n",
       "      <th>genres</th>\n",
       "      <th>homepage</th>\n",
       "      <th>movie_id</th>\n",
       "      <th>keywords</th>\n",
       "      <th>original_language</th>\n",
       "      <th>original_title</th>\n",
       "      <th>overview</th>\n",
       "      <th>popularity</th>\n",
       "      <th>production_companies</th>\n",
       "      <th>...</th>\n",
       "      <th>runtime</th>\n",
       "      <th>spoken_languages</th>\n",
       "      <th>status</th>\n",
       "      <th>tagline</th>\n",
       "      <th>title_x</th>\n",
       "      <th>vote_average</th>\n",
       "      <th>vote_count</th>\n",
       "      <th>title_y</th>\n",
       "      <th>cast</th>\n",
       "      <th>crew</th>\n",
       "    </tr>\n",
       "  </thead>\n",
       "  <tbody>\n",
       "    <tr>\n",
       "      <th>0</th>\n",
       "      <td>237000000</td>\n",
       "      <td>[{\"id\": 28, \"name\": \"Action\"}, {\"id\": 12, \"nam...</td>\n",
       "      <td>http://www.avatarmovie.com/</td>\n",
       "      <td>19995</td>\n",
       "      <td>[{\"id\": 1463, \"name\": \"culture clash\"}, {\"id\":...</td>\n",
       "      <td>en</td>\n",
       "      <td>Avatar</td>\n",
       "      <td>In the 22nd century, a paraplegic Marine is di...</td>\n",
       "      <td>150.437577</td>\n",
       "      <td>[{\"name\": \"Ingenious Film Partners\", \"id\": 289...</td>\n",
       "      <td>...</td>\n",
       "      <td>162.0</td>\n",
       "      <td>[{\"iso_639_1\": \"en\", \"name\": \"English\"}, {\"iso...</td>\n",
       "      <td>Released</td>\n",
       "      <td>Enter the World of Pandora.</td>\n",
       "      <td>Avatar</td>\n",
       "      <td>7.2</td>\n",
       "      <td>11800</td>\n",
       "      <td>Avatar</td>\n",
       "      <td>[{\"cast_id\": 242, \"character\": \"Jake Sully\", \"...</td>\n",
       "      <td>[{\"credit_id\": \"52fe48009251416c750aca23\", \"de...</td>\n",
       "    </tr>\n",
       "    <tr>\n",
       "      <th>1</th>\n",
       "      <td>300000000</td>\n",
       "      <td>[{\"id\": 12, \"name\": \"Adventure\"}, {\"id\": 14, \"...</td>\n",
       "      <td>http://disney.go.com/disneypictures/pirates/</td>\n",
       "      <td>285</td>\n",
       "      <td>[{\"id\": 270, \"name\": \"ocean\"}, {\"id\": 726, \"na...</td>\n",
       "      <td>en</td>\n",
       "      <td>Pirates of the Caribbean: At World's End</td>\n",
       "      <td>Captain Barbossa, long believed to be dead, ha...</td>\n",
       "      <td>139.082615</td>\n",
       "      <td>[{\"name\": \"Walt Disney Pictures\", \"id\": 2}, {\"...</td>\n",
       "      <td>...</td>\n",
       "      <td>169.0</td>\n",
       "      <td>[{\"iso_639_1\": \"en\", \"name\": \"English\"}]</td>\n",
       "      <td>Released</td>\n",
       "      <td>At the end of the world, the adventure begins.</td>\n",
       "      <td>Pirates of the Caribbean: At World's End</td>\n",
       "      <td>6.9</td>\n",
       "      <td>4500</td>\n",
       "      <td>Pirates of the Caribbean: At World's End</td>\n",
       "      <td>[{\"cast_id\": 4, \"character\": \"Captain Jack Spa...</td>\n",
       "      <td>[{\"credit_id\": \"52fe4232c3a36847f800b579\", \"de...</td>\n",
       "    </tr>\n",
       "    <tr>\n",
       "      <th>2</th>\n",
       "      <td>245000000</td>\n",
       "      <td>[{\"id\": 28, \"name\": \"Action\"}, {\"id\": 12, \"nam...</td>\n",
       "      <td>http://www.sonypictures.com/movies/spectre/</td>\n",
       "      <td>206647</td>\n",
       "      <td>[{\"id\": 470, \"name\": \"spy\"}, {\"id\": 818, \"name...</td>\n",
       "      <td>en</td>\n",
       "      <td>Spectre</td>\n",
       "      <td>A cryptic message from Bond’s past sends him o...</td>\n",
       "      <td>107.376788</td>\n",
       "      <td>[{\"name\": \"Columbia Pictures\", \"id\": 5}, {\"nam...</td>\n",
       "      <td>...</td>\n",
       "      <td>148.0</td>\n",
       "      <td>[{\"iso_639_1\": \"fr\", \"name\": \"Fran\\u00e7ais\"},...</td>\n",
       "      <td>Released</td>\n",
       "      <td>A Plan No One Escapes</td>\n",
       "      <td>Spectre</td>\n",
       "      <td>6.3</td>\n",
       "      <td>4466</td>\n",
       "      <td>Spectre</td>\n",
       "      <td>[{\"cast_id\": 1, \"character\": \"James Bond\", \"cr...</td>\n",
       "      <td>[{\"credit_id\": \"54805967c3a36829b5002c41\", \"de...</td>\n",
       "    </tr>\n",
       "    <tr>\n",
       "      <th>3</th>\n",
       "      <td>250000000</td>\n",
       "      <td>[{\"id\": 28, \"name\": \"Action\"}, {\"id\": 80, \"nam...</td>\n",
       "      <td>http://www.thedarkknightrises.com/</td>\n",
       "      <td>49026</td>\n",
       "      <td>[{\"id\": 849, \"name\": \"dc comics\"}, {\"id\": 853,...</td>\n",
       "      <td>en</td>\n",
       "      <td>The Dark Knight Rises</td>\n",
       "      <td>Following the death of District Attorney Harve...</td>\n",
       "      <td>112.312950</td>\n",
       "      <td>[{\"name\": \"Legendary Pictures\", \"id\": 923}, {\"...</td>\n",
       "      <td>...</td>\n",
       "      <td>165.0</td>\n",
       "      <td>[{\"iso_639_1\": \"en\", \"name\": \"English\"}]</td>\n",
       "      <td>Released</td>\n",
       "      <td>The Legend Ends</td>\n",
       "      <td>The Dark Knight Rises</td>\n",
       "      <td>7.6</td>\n",
       "      <td>9106</td>\n",
       "      <td>The Dark Knight Rises</td>\n",
       "      <td>[{\"cast_id\": 2, \"character\": \"Bruce Wayne / Ba...</td>\n",
       "      <td>[{\"credit_id\": \"52fe4781c3a36847f81398c3\", \"de...</td>\n",
       "    </tr>\n",
       "    <tr>\n",
       "      <th>4</th>\n",
       "      <td>260000000</td>\n",
       "      <td>[{\"id\": 28, \"name\": \"Action\"}, {\"id\": 12, \"nam...</td>\n",
       "      <td>http://movies.disney.com/john-carter</td>\n",
       "      <td>49529</td>\n",
       "      <td>[{\"id\": 818, \"name\": \"based on novel\"}, {\"id\":...</td>\n",
       "      <td>en</td>\n",
       "      <td>John Carter</td>\n",
       "      <td>John Carter is a war-weary, former military ca...</td>\n",
       "      <td>43.926995</td>\n",
       "      <td>[{\"name\": \"Walt Disney Pictures\", \"id\": 2}]</td>\n",
       "      <td>...</td>\n",
       "      <td>132.0</td>\n",
       "      <td>[{\"iso_639_1\": \"en\", \"name\": \"English\"}]</td>\n",
       "      <td>Released</td>\n",
       "      <td>Lost in our world, found in another.</td>\n",
       "      <td>John Carter</td>\n",
       "      <td>6.1</td>\n",
       "      <td>2124</td>\n",
       "      <td>John Carter</td>\n",
       "      <td>[{\"cast_id\": 5, \"character\": \"John Carter\", \"c...</td>\n",
       "      <td>[{\"credit_id\": \"52fe479ac3a36847f813eaa3\", \"de...</td>\n",
       "    </tr>\n",
       "  </tbody>\n",
       "</table>\n",
       "<p>5 rows × 23 columns</p>\n",
       "</div>"
      ],
      "text/plain": [
       "      budget                                             genres  \\\n",
       "0  237000000  [{\"id\": 28, \"name\": \"Action\"}, {\"id\": 12, \"nam...   \n",
       "1  300000000  [{\"id\": 12, \"name\": \"Adventure\"}, {\"id\": 14, \"...   \n",
       "2  245000000  [{\"id\": 28, \"name\": \"Action\"}, {\"id\": 12, \"nam...   \n",
       "3  250000000  [{\"id\": 28, \"name\": \"Action\"}, {\"id\": 80, \"nam...   \n",
       "4  260000000  [{\"id\": 28, \"name\": \"Action\"}, {\"id\": 12, \"nam...   \n",
       "\n",
       "                                       homepage  movie_id  \\\n",
       "0                   http://www.avatarmovie.com/     19995   \n",
       "1  http://disney.go.com/disneypictures/pirates/       285   \n",
       "2   http://www.sonypictures.com/movies/spectre/    206647   \n",
       "3            http://www.thedarkknightrises.com/     49026   \n",
       "4          http://movies.disney.com/john-carter     49529   \n",
       "\n",
       "                                            keywords original_language  \\\n",
       "0  [{\"id\": 1463, \"name\": \"culture clash\"}, {\"id\":...                en   \n",
       "1  [{\"id\": 270, \"name\": \"ocean\"}, {\"id\": 726, \"na...                en   \n",
       "2  [{\"id\": 470, \"name\": \"spy\"}, {\"id\": 818, \"name...                en   \n",
       "3  [{\"id\": 849, \"name\": \"dc comics\"}, {\"id\": 853,...                en   \n",
       "4  [{\"id\": 818, \"name\": \"based on novel\"}, {\"id\":...                en   \n",
       "\n",
       "                             original_title  \\\n",
       "0                                    Avatar   \n",
       "1  Pirates of the Caribbean: At World's End   \n",
       "2                                   Spectre   \n",
       "3                     The Dark Knight Rises   \n",
       "4                               John Carter   \n",
       "\n",
       "                                            overview  popularity  \\\n",
       "0  In the 22nd century, a paraplegic Marine is di...  150.437577   \n",
       "1  Captain Barbossa, long believed to be dead, ha...  139.082615   \n",
       "2  A cryptic message from Bond’s past sends him o...  107.376788   \n",
       "3  Following the death of District Attorney Harve...  112.312950   \n",
       "4  John Carter is a war-weary, former military ca...   43.926995   \n",
       "\n",
       "                                production_companies  ... runtime  \\\n",
       "0  [{\"name\": \"Ingenious Film Partners\", \"id\": 289...  ...   162.0   \n",
       "1  [{\"name\": \"Walt Disney Pictures\", \"id\": 2}, {\"...  ...   169.0   \n",
       "2  [{\"name\": \"Columbia Pictures\", \"id\": 5}, {\"nam...  ...   148.0   \n",
       "3  [{\"name\": \"Legendary Pictures\", \"id\": 923}, {\"...  ...   165.0   \n",
       "4        [{\"name\": \"Walt Disney Pictures\", \"id\": 2}]  ...   132.0   \n",
       "\n",
       "                                    spoken_languages    status  \\\n",
       "0  [{\"iso_639_1\": \"en\", \"name\": \"English\"}, {\"iso...  Released   \n",
       "1           [{\"iso_639_1\": \"en\", \"name\": \"English\"}]  Released   \n",
       "2  [{\"iso_639_1\": \"fr\", \"name\": \"Fran\\u00e7ais\"},...  Released   \n",
       "3           [{\"iso_639_1\": \"en\", \"name\": \"English\"}]  Released   \n",
       "4           [{\"iso_639_1\": \"en\", \"name\": \"English\"}]  Released   \n",
       "\n",
       "                                          tagline  \\\n",
       "0                     Enter the World of Pandora.   \n",
       "1  At the end of the world, the adventure begins.   \n",
       "2                           A Plan No One Escapes   \n",
       "3                                 The Legend Ends   \n",
       "4            Lost in our world, found in another.   \n",
       "\n",
       "                                    title_x vote_average vote_count  \\\n",
       "0                                    Avatar          7.2      11800   \n",
       "1  Pirates of the Caribbean: At World's End          6.9       4500   \n",
       "2                                   Spectre          6.3       4466   \n",
       "3                     The Dark Knight Rises          7.6       9106   \n",
       "4                               John Carter          6.1       2124   \n",
       "\n",
       "                                    title_y  \\\n",
       "0                                    Avatar   \n",
       "1  Pirates of the Caribbean: At World's End   \n",
       "2                                   Spectre   \n",
       "3                     The Dark Knight Rises   \n",
       "4                               John Carter   \n",
       "\n",
       "                                                cast  \\\n",
       "0  [{\"cast_id\": 242, \"character\": \"Jake Sully\", \"...   \n",
       "1  [{\"cast_id\": 4, \"character\": \"Captain Jack Spa...   \n",
       "2  [{\"cast_id\": 1, \"character\": \"James Bond\", \"cr...   \n",
       "3  [{\"cast_id\": 2, \"character\": \"Bruce Wayne / Ba...   \n",
       "4  [{\"cast_id\": 5, \"character\": \"John Carter\", \"c...   \n",
       "\n",
       "                                                crew  \n",
       "0  [{\"credit_id\": \"52fe48009251416c750aca23\", \"de...  \n",
       "1  [{\"credit_id\": \"52fe4232c3a36847f800b579\", \"de...  \n",
       "2  [{\"credit_id\": \"54805967c3a36829b5002c41\", \"de...  \n",
       "3  [{\"credit_id\": \"52fe4781c3a36847f81398c3\", \"de...  \n",
       "4  [{\"credit_id\": \"52fe479ac3a36847f813eaa3\", \"de...  \n",
       "\n",
       "[5 rows x 23 columns]"
      ]
     },
     "execution_count": 7,
     "metadata": {},
     "output_type": "execute_result"
    }
   ],
   "source": [
    "df_films.head()"
   ]
  },
  {
   "cell_type": "markdown",
   "id": "f2be88a9",
   "metadata": {},
   "source": [
    "The title column got repeated, so let's drop one of them and rename the other one to 'title'"
   ]
  },
  {
   "cell_type": "markdown",
   "id": "5f633383",
   "metadata": {},
   "source": [
    "df_films = df_films.drop(columns='title_y')"
   ]
  },
  {
   "cell_type": "code",
   "execution_count": 8,
   "id": "e58f576b",
   "metadata": {},
   "outputs": [],
   "source": [
    "df_films.rename(columns={'title_x': 'title'}, inplace=True)"
   ]
  },
  {
   "cell_type": "markdown",
   "id": "57957827",
   "metadata": {},
   "source": [
    "## 1. Score ranking: Top10s and more"
   ]
  },
  {
   "cell_type": "markdown",
   "id": "071f3de5",
   "metadata": {},
   "source": [
    "The most basic way of recommending movies is with the Top lists, which account for some kind of evaluation or votes and assume people like what the majority of people like as well. \n",
    "\n",
    "This dataframe has a vote_average and a vote_count columns. You could easily sort the TOP RATED movies and the MOST POPULAR movies based in the average score and the average vote count, respectively, to understand how Netflix creates the TOP10 movie rank, for example. I just need to know the titles, so I'll sort the dataframe descendingly in terms of vote average and vote count, select the top ten and save the title information on a separate variable. "
   ]
  },
  {
   "cell_type": "code",
   "execution_count": 9,
   "id": "76a4b50b",
   "metadata": {},
   "outputs": [],
   "source": [
    "top10rated = df_films.sort_values(by='vote_average', ascending=False).head(10).title"
   ]
  },
  {
   "cell_type": "code",
   "execution_count": 10,
   "id": "38222832",
   "metadata": {},
   "outputs": [],
   "source": [
    "top10popular = df_films.sort_values(by='vote_count', ascending=False).head(10).title"
   ]
  },
  {
   "cell_type": "markdown",
   "id": "ed9598e2",
   "metadata": {},
   "source": [
    "Let's visualize both to see the rankings more clearly. We will need to extract the titles and votes data, sort the extracted data again and plot it with the matplotlib library following a simple style. "
   ]
  },
  {
   "cell_type": "code",
   "execution_count": 11,
   "id": "c5011b08",
   "metadata": {},
   "outputs": [],
   "source": [
    "top10rated_values = df_films.loc[df_films['title'].isin(top10rated), ['title', 'vote_average']]\n",
    "top10popular_values = df_films.loc[df_films['title'].isin(top10popular), ['title', 'vote_count']]"
   ]
  },
  {
   "cell_type": "code",
   "execution_count": 12,
   "id": "2780ab9f",
   "metadata": {},
   "outputs": [],
   "source": [
    "top10rated_values = top10rated_values.set_index('title').loc[top10rated].reset_index()\n",
    "top10popular_values = top10popular_values.set_index('title').loc[top10popular].reset_index()"
   ]
  },
  {
   "cell_type": "code",
   "execution_count": 13,
   "id": "589c11a2",
   "metadata": {},
   "outputs": [
    {
     "data": {
      "image/png": "[encoded data removed]",
      "text/plain": [
       "<Figure size 1200x1500 with 2 Axes>"
      ]
     },
     "metadata": {},
     "output_type": "display_data"
    }
   ],
   "source": [
    "import matplotlib\n",
    "import matplotlib.pyplot as plt\n",
    "\n",
    "# Set up the figure and axes\n",
    "fig, axes = plt.subplots(nrows=2, ncols=1, figsize=(12, 15))\n",
    "\n",
    "# Plotting top10rated\n",
    "axes[0].barh(top10rated_values['title'][::-1], top10rated_values['vote_average'][::-1], color='pink')\n",
    "axes[0].set_title('Top 10 Rated Movies')\n",
    "axes[0].set_xlabel('Average Vote')\n",
    "for index, value in enumerate(top10rated_values['vote_average'][::-1]):\n",
    "    axes[0].text(value, index, f'{value:.2f}', va='center')\n",
    "\n",
    "# Plotting top10popular\n",
    "axes[1].barh(top10popular_values['title'][::-1], top10popular_values['vote_count'][::-1], color='lightgreen')\n",
    "axes[1].set_title('Top 10 Popular Movies by Vote Count')\n",
    "axes[1].set_xlabel('Vote Count')\n",
    "for index, value in enumerate(top10popular_values['vote_count'][::-1]):\n",
    "    axes[1].text(value, index, str(value), va='center')\n",
    "\n",
    "plt.tight_layout()\n",
    "plt.show()\n"
   ]
  },
  {
   "cell_type": "markdown",
   "id": "7cb23860",
   "metadata": {},
   "source": [
    "But imagine you have a really niche film, you're friends adore you and rate your film the highest, giving you a full score in The Movie Database. But only your friends have watched it. On the other hand, Inception, one of the top popular films has been rated thousands of times, so the distribution of votes gives it a lower rate compared to your film. That is not really fair, so we can give each vote_count a weight to balance the ratio of vote_average and vote_counts. \n",
    "\n",
    "This score is usually computed like this\n",
    "\n",
    "Weighted Score = ((vote_count/(vote_count + min_vote_requirement)) * vote_average) + ((min_vote_requirement/(min_vote_requirement+vote_count)* overall_average)\n",
    "\n",
    "We have two of the variables, the other two can be easily calculated. \n",
    "\n",
    "The overall_average is just the mean of every average in the dataframe. The min_vote_requirement is the minimum vote_count that we consider is enough to be part of the rankings, for example, every movie that has a vote_count higher than the lower 30% on the list, to erase the last part of the tail. "
   ]
  },
  {
   "cell_type": "code",
   "execution_count": 14,
   "id": "18c096ce",
   "metadata": {},
   "outputs": [
    {
     "data": {
      "text/plain": [
       "6.092171559442016"
      ]
     },
     "execution_count": 14,
     "metadata": {},
     "output_type": "execute_result"
    }
   ],
   "source": [
    "overall_average= df_films['vote_average'].mean()\n",
    "overall_average"
   ]
  },
  {
   "cell_type": "code",
   "execution_count": 15,
   "id": "00640a5f",
   "metadata": {},
   "outputs": [
    {
     "data": {
      "text/plain": [
       "76.0"
      ]
     },
     "execution_count": 15,
     "metadata": {},
     "output_type": "execute_result"
    }
   ],
   "source": [
    "min_vote_requirement= df_films['vote_count'].quantile(0.3)\n",
    "min_vote_requirement"
   ]
  },
  {
   "cell_type": "markdown",
   "id": "89898ee8",
   "metadata": {},
   "source": [
    "Having at least 76 votes seems like a good limit in order to qualify, so let's continue with this condition and see how many movies qualify with a logic requirement."
   ]
  },
  {
   "cell_type": "code",
   "execution_count": 16,
   "id": "7cd24975",
   "metadata": {},
   "outputs": [],
   "source": [
    "qualified_films = df_films.copy().loc[df_films['vote_count'] >= min_vote_requirement]"
   ]
  },
  {
   "cell_type": "code",
   "execution_count": 17,
   "id": "71c7ffb2",
   "metadata": {},
   "outputs": [
    {
     "data": {
      "text/plain": [
       "(3363, 23)"
      ]
     },
     "execution_count": 17,
     "metadata": {},
     "output_type": "execute_result"
    }
   ],
   "source": [
    "qualified_films.shape"
   ]
  },
  {
   "cell_type": "markdown",
   "id": "68293a5b",
   "metadata": {},
   "source": [
    "We have 3363 movies that qualify! That is a pretty good amount for our recommender system to work with :) "
   ]
  },
  {
   "cell_type": "markdown",
   "id": "fd7e2993",
   "metadata": {},
   "source": [
    "In order to rank the movies by this weighted score, we need to build a new column that computes that formula, defining every variable with one letter to better work with the formula, and making it return the calculated formula as a result. Then, we will add a new column \"score\" aplying this result to each movie."
   ]
  },
  {
   "cell_type": "code",
   "execution_count": 18,
   "id": "7f549280",
   "metadata": {},
   "outputs": [],
   "source": [
    "def weighted_score (x, m=min_vote_requirement, C=overall_average):\n",
    "    v= x['vote_count']\n",
    "    R = x['vote_average']\n",
    "    return (v/(v+m)*R)+(m/(m+v)*C)"
   ]
  },
  {
   "cell_type": "code",
   "execution_count": 19,
   "id": "bb8d443f",
   "metadata": {},
   "outputs": [],
   "source": [
    "qualified_films['score']=qualified_films.apply(weighted_score, axis=1)"
   ]
  },
  {
   "cell_type": "markdown",
   "id": "526120b0",
   "metadata": {},
   "source": [
    "Now we can sort all the qualifying movies to see which ones won the weighted score ranking: "
   ]
  },
  {
   "cell_type": "code",
   "execution_count": 20,
   "id": "90df59de",
   "metadata": {},
   "outputs": [
    {
     "data": {
      "text/html": [
       "<div>\n",
       "<style scoped>\n",
       "    .dataframe tbody tr th:only-of-type {\n",
       "        vertical-align: middle;\n",
       "    }\n",
       "\n",
       "    .dataframe tbody tr th {\n",
       "        vertical-align: top;\n",
       "    }\n",
       "\n",
       "    .dataframe thead th {\n",
       "        text-align: right;\n",
       "    }\n",
       "</style>\n",
       "<table border=\"1\" class=\"dataframe\">\n",
       "  <thead>\n",
       "    <tr style=\"text-align: right;\">\n",
       "      <th></th>\n",
       "      <th>title</th>\n",
       "      <th>vote_count</th>\n",
       "      <th>vote_average</th>\n",
       "      <th>score</th>\n",
       "    </tr>\n",
       "  </thead>\n",
       "  <tbody>\n",
       "    <tr>\n",
       "      <th>1881</th>\n",
       "      <td>The Shawshank Redemption</td>\n",
       "      <td>8205</td>\n",
       "      <td>8.5</td>\n",
       "      <td>8.477902</td>\n",
       "    </tr>\n",
       "    <tr>\n",
       "      <th>3337</th>\n",
       "      <td>The Godfather</td>\n",
       "      <td>5893</td>\n",
       "      <td>8.4</td>\n",
       "      <td>8.370616</td>\n",
       "    </tr>\n",
       "    <tr>\n",
       "      <th>662</th>\n",
       "      <td>Fight Club</td>\n",
       "      <td>9413</td>\n",
       "      <td>8.3</td>\n",
       "      <td>8.282317</td>\n",
       "    </tr>\n",
       "    <tr>\n",
       "      <th>3232</th>\n",
       "      <td>Pulp Fiction</td>\n",
       "      <td>8428</td>\n",
       "      <td>8.3</td>\n",
       "      <td>8.280269</td>\n",
       "    </tr>\n",
       "    <tr>\n",
       "      <th>1818</th>\n",
       "      <td>Schindler's List</td>\n",
       "      <td>4329</td>\n",
       "      <td>8.3</td>\n",
       "      <td>8.261908</td>\n",
       "    </tr>\n",
       "    <tr>\n",
       "      <th>3865</th>\n",
       "      <td>Whiplash</td>\n",
       "      <td>4254</td>\n",
       "      <td>8.3</td>\n",
       "      <td>8.261248</td>\n",
       "    </tr>\n",
       "    <tr>\n",
       "      <th>2294</th>\n",
       "      <td>Spirited Away</td>\n",
       "      <td>3840</td>\n",
       "      <td>8.3</td>\n",
       "      <td>8.257151</td>\n",
       "    </tr>\n",
       "    <tr>\n",
       "      <th>2731</th>\n",
       "      <td>The Godfather: Part II</td>\n",
       "      <td>3338</td>\n",
       "      <td>8.3</td>\n",
       "      <td>8.250851</td>\n",
       "    </tr>\n",
       "    <tr>\n",
       "      <th>65</th>\n",
       "      <td>The Dark Knight</td>\n",
       "      <td>12002</td>\n",
       "      <td>8.2</td>\n",
       "      <td>8.186737</td>\n",
       "    </tr>\n",
       "    <tr>\n",
       "      <th>809</th>\n",
       "      <td>Forrest Gump</td>\n",
       "      <td>7927</td>\n",
       "      <td>8.2</td>\n",
       "      <td>8.179983</td>\n",
       "    </tr>\n",
       "  </tbody>\n",
       "</table>\n",
       "</div>"
      ],
      "text/plain": [
       "                         title  vote_count  vote_average     score\n",
       "1881  The Shawshank Redemption        8205           8.5  8.477902\n",
       "3337             The Godfather        5893           8.4  8.370616\n",
       "662                 Fight Club        9413           8.3  8.282317\n",
       "3232              Pulp Fiction        8428           8.3  8.280269\n",
       "1818          Schindler's List        4329           8.3  8.261908\n",
       "3865                  Whiplash        4254           8.3  8.261248\n",
       "2294             Spirited Away        3840           8.3  8.257151\n",
       "2731    The Godfather: Part II        3338           8.3  8.250851\n",
       "65             The Dark Knight       12002           8.2  8.186737\n",
       "809               Forrest Gump        7927           8.2  8.179983"
      ]
     },
     "execution_count": 20,
     "metadata": {},
     "output_type": "execute_result"
    }
   ],
   "source": [
    "qualified_films = qualified_films.sort_values('score', ascending=False)\n",
    "qualified_films[['title', 'vote_count', 'vote_average', 'score']].head(10)"
   ]
  },
  {
   "cell_type": "code",
   "execution_count": 21,
   "id": "641a23d4",
   "metadata": {
    "scrolled": true
   },
   "outputs": [
    {
     "data": {
      "image/png": "[encoded data removed]",
      "text/plain": [
       "<Figure size 1000x1500 with 2 Axes>"
      ]
     },
     "metadata": {},
     "output_type": "display_data"
    }
   ],
   "source": [
    "top10_scored_films = qualified_films.head(10)\n",
    "\n",
    "# Plotting\n",
    "fig, axes = plt.subplots(nrows=1, ncols=2, figsize=(10, 15))\n",
    "\n",
    "# Plotting score\n",
    "axes[0].barh(top10_scored_films['title'][::-1], top10_scored_films['score'][::-1], color='green', alpha=0.7)\n",
    "axes[0].set_title('Top 10 Movies by Score')\n",
    "axes[0].set_xlabel('Score')\n",
    "for index, value in enumerate(top10_scored_films['score'][::-1]):\n",
    "    axes[0].text(value, index, f'{value:.2f}', va='center', color='black')\n",
    "\n",
    "# Plotting vote_count\n",
    "axes[1].barh(top10_scored_films['title'][::-1], top10_scored_films['vote_count'][::-1], color='blue', alpha=0.7)\n",
    "axes[1].set_title('Vote Count of Top 10 Movies by Score')\n",
    "axes[1].set_xlabel('Vote Count')\n",
    "for index, value in enumerate(top10_scored_films['vote_count'][::-1]):\n",
    "    axes[1].text(value, index, f'{value}', va='center', color='black')\n",
    "    \n",
    "# Adjust layout\n",
    "plt.tight_layout()\n",
    "plt.show()"
   ]
  },
  {
   "cell_type": "markdown",
   "id": "94ddd0f0",
   "metadata": {},
   "source": [
    "You can clearly see that some older movies might have gotten less votes because watching them is a matter of intention and not a result in new movies marketing strategy, so the weighted score actually makes a difference"
   ]
  },
  {
   "cell_type": "markdown",
   "id": "acf3d21f",
   "metadata": {},
   "source": [
    "If we compare it to the top10popular, we can see that some in both, such as The Dark Knight, but many don't. Top10 movies in the weighted score ranking tend to be more \"classic\", and the top10popular, more \"mainstream\". Depending on the preferences of each user, one ranking can be prompted instead of the other, giving a better personalization system even in these kind of \"social\" or \"general\" recommendations. \n"
   ]
  },
  {
   "cell_type": "code",
   "execution_count": 22,
   "id": "37f74152",
   "metadata": {},
   "outputs": [
    {
     "data": {
      "text/plain": [
       "96                   Inception\n",
       "65             The Dark Knight\n",
       "0                       Avatar\n",
       "16                The Avengers\n",
       "788                   Deadpool\n",
       "95                Interstellar\n",
       "287           Django Unchained\n",
       "94     Guardians of the Galaxy\n",
       "426           The Hunger Games\n",
       "127         Mad Max: Fury Road\n",
       "Name: title, dtype: object"
      ]
     },
     "execution_count": 22,
     "metadata": {},
     "output_type": "execute_result"
    }
   ],
   "source": [
    "top10popular"
   ]
  },
  {
   "cell_type": "markdown",
   "id": "ba4ced6c",
   "metadata": {},
   "source": [
    "There's actually this column called \"popularity\" that relates to an unknown variable about some sort of popularity evaluation, which we can plot as well to see if there are any differences with the top10popular variable we have defined with the number of votes in consideration. "
   ]
  },
  {
   "cell_type": "code",
   "execution_count": 23,
   "id": "a126eb33",
   "metadata": {},
   "outputs": [
    {
     "data": {
      "text/plain": [
       "Text(0.5, 1.0, 'Popular Movies')"
      ]
     },
     "execution_count": 23,
     "metadata": {},
     "output_type": "execute_result"
    },
    {
     "data": {
      "image/png": "[encoded data removed]",
      "text/plain": [
       "<Figure size 1200x400 with 1 Axes>"
      ]
     },
     "metadata": {},
     "output_type": "display_data"
    }
   ],
   "source": [
    "popular_films= df_films.sort_values('popularity', ascending=False)\n",
    "import matplotlib.pyplot as plt\n",
    "plt.figure(figsize=(12,4))\n",
    "\n",
    "plt.barh(popular_films['title'].head(10),popular_films['popularity'].head(10), align='center',\n",
    "        color='skyblue')\n",
    "plt.gca().invert_yaxis()\n",
    "plt.xlabel(\"Popularity\")\n",
    "plt.title(\"Popular Movies\")"
   ]
  },
  {
   "cell_type": "code",
   "execution_count": 24,
   "id": "8e2f9ee9",
   "metadata": {},
   "outputs": [
    {
     "data": {
      "text/plain": [
       "Text(0.5, 1.0, 'Most voted movies')"
      ]
     },
     "execution_count": 24,
     "metadata": {},
     "output_type": "execute_result"
    },
    {
     "data": {
      "image/png": "[encoded data removed]",
      "text/plain": [
       "<Figure size 1200x400 with 1 Axes>"
      ]
     },
     "metadata": {},
     "output_type": "display_data"
    }
   ],
   "source": [
    "top_popular= df_films.sort_values('vote_count', ascending=False)\n",
    "import matplotlib.pyplot as plt\n",
    "plt.figure(figsize=(12,4))\n",
    "\n",
    "plt.barh(top_popular['title'].head(10),top_popular['vote_count'].head(10), align='center',\n",
    "        color='green')\n",
    "plt.gca().invert_yaxis()\n",
    "plt.xlabel(\"Vote Count\")\n",
    "plt.title(\"Most voted movies\")"
   ]
  },
  {
   "cell_type": "markdown",
   "id": "be3cfb43",
   "metadata": {},
   "source": [
    "So there are some some differences, but they are pretty much mainstream movies. The \"popularity\" index includes more \"children's movies\" that may have a higher impact in the box office than vote counts, mainly because children do not normally vote (?). This shows that variables meaning are important to make business decisions about them, and assumptions around why choosing or computing a variable when recommending content to users is crucial. In this case, since I do not have enough knowledge about what the \"popularity\" variable accounts for, I would stick to the vote_count variable for this project. "
   ]
  },
  {
   "cell_type": "markdown",
   "id": "cba2a90d",
   "metadata": {},
   "source": [
    "## 2. Content-based ranking: if you liked this, you'll like that"
   ]
  },
  {
   "cell_type": "markdown",
   "id": "272158ce",
   "metadata": {},
   "source": [
    "This kind of recommendation is normally used to recommend based on a metadata tagging system or genre-based recommendations. When it gets more complex, they rely on text-analysis to identify similarities between plotline or story summaries, but the underlying process is the same. \n",
    "\n",
    "i.e.: if I liked Lalaland, which is a \"musical\" and \"romantic\" movie in terms of genres, and I also liked \"The Notebook\", which is a \"drama\" and \"romantic\" movie, probably I will get a \"romantic\" genre movie recommended from this system. It could work the same way with way more specific tags such as \"gang persecution\", \"unsolved mistery\" o \"XIX century historical drama\", which could drive a user into a somewhat called eco-chamber, instead of prompting content that may be of the user's liking but is really different from what they normally seen. So it is not so diversity-friendly. \n",
    "\n",
    "Generally speaking, content-based recommendations are based on a user's preference for a particular category of content. "
   ]
  },
  {
   "cell_type": "markdown",
   "id": "2ce82840",
   "metadata": {},
   "source": [
    "In this case, to be able to do this kind of recommendation, we have to start with a more complex library to apply predictive modeling techniques. In this case, and in the majority of the cases I have studied for this project, Scikit-learn is the go-to library. \n",
    "\n",
    "I have seen the recommender systems built with to sublibraries, TfIdfVectorizer and CountVectorizer. CountVectorizer works better with names of the crew and simple words, and TfIdVectorizer works better with sentence-long summaries because it downweights really common words such as prepositions, articles and so on.\n",
    "\n",
    "How each of them work is: a vector is created based on the whole content of one value (author name, genre category, summary text) and then a matrix is built with every vector in the dataframe. By calculating the cosine between to movie vectors, you can calculate or quantify their similarity (if two vectors are closer in terms of cosine, they are more similar). \n",
    "\n",
    "This similarity can be computed with other types of methods, again, making assumptions about what is our desired output, how does our user behave, how complex do we want our system to be... There is a whole world out there, starting with Scikit-learn. "
   ]
  },
  {
   "cell_type": "markdown",
   "id": "c1ea448c",
   "metadata": {},
   "source": [
    "### How to code a content-based ranking"
   ]
  },
  {
   "cell_type": "markdown",
   "id": "edb29362",
   "metadata": {},
   "source": [
    "We will import the TfidVectorizer from Scikit-learn and define a vector object for every summary in the dataset. These summaries are stored in the column \"overview\", and are written in english. "
   ]
  },
  {
   "cell_type": "code",
   "execution_count": 25,
   "id": "b7a09c60",
   "metadata": {},
   "outputs": [],
   "source": [
    "from sklearn.feature_extraction.text import TfidfVectorizer\n",
    "from sklearn.metrics.pairwise import linear_kernel\n",
    "import numpy as np"
   ]
  },
  {
   "cell_type": "markdown",
   "id": "e4c3db2c",
   "metadata": {},
   "source": [
    "If we encounter an \"overview\" empty value, it could cause some trouble, so we should fill each one empty with at least a space, and then create the vectors. "
   ]
  },
  {
   "cell_type": "code",
   "execution_count": 26,
   "id": "3299bda9",
   "metadata": {},
   "outputs": [],
   "source": [
    "df_films['overview'] = df_films['overview'].fillna('')"
   ]
  },
  {
   "cell_type": "code",
   "execution_count": 27,
   "id": "a3c23a4a",
   "metadata": {},
   "outputs": [],
   "source": [
    "summary_vectors = TfidfVectorizer(stop_words='english', max_features=5000)"
   ]
  },
  {
   "cell_type": "markdown",
   "id": "baf049a4",
   "metadata": {},
   "source": [
    "Now we can build a matrix with all the vectors. "
   ]
  },
  {
   "cell_type": "code",
   "execution_count": 28,
   "id": "e63a7585",
   "metadata": {},
   "outputs": [
    {
     "data": {
      "text/plain": [
       "(4803, 5000)"
      ]
     },
     "execution_count": 28,
     "metadata": {},
     "output_type": "execute_result"
    }
   ],
   "source": [
    "tfidf_matrix = summary_vectors.fit_transform(df_films['overview'])\n",
    "tfidf_matrix.shape"
   ]
  },
  {
   "cell_type": "markdown",
   "id": "e632fac4",
   "metadata": {},
   "source": [
    "This matrix means that out of +4800 movies, there are 5000 different terms used in the plot summaries to describe them all. The similarity among the +4800 movies will be related to how close are they in terms of the 5000 terms. In order to compute the similarity in cosine proximilty, we use the linear_kernel matrix as in algebra, for which we need a \"squared\" matrix. "
   ]
  },
  {
   "cell_type": "code",
   "execution_count": 29,
   "id": "254d8633",
   "metadata": {},
   "outputs": [
    {
     "data": {
      "text/plain": [
       "(4803, 4803)"
      ]
     },
     "execution_count": 29,
     "metadata": {},
     "output_type": "execute_result"
    }
   ],
   "source": [
    "cosine_sim = linear_kernel(tfidf_matrix, tfidf_matrix)\n",
    "cosine_sim.shape"
   ]
  },
  {
   "cell_type": "markdown",
   "id": "a34590a2",
   "metadata": {},
   "source": [
    "Now we can create a function that recommends the movies based on the matrix similarity, in other words, content-based. We will need to retrieve the index of the movie that matches the title a person will provide, and then get the similarity scores with other movies, sort those out to obtain the highest level of similarity, get their movie indices and finally return the list of recommended movies.  "
   ]
  },
  {
   "cell_type": "code",
   "execution_count": 30,
   "id": "a817b6b1",
   "metadata": {},
   "outputs": [],
   "source": [
    "def recommend_movies(title, cosine_sim=cosine_sim, num_recommendations=10):   \n",
    "    # Get the index of the movie that matches the title\n",
    "    movie_index = df_films[df_films['title'] == title].index[0]\n",
    "\n",
    "    # Get all the similarity scores with that movie\n",
    "    similar_scores = list(enumerate(cosine_sim[movie_index]))\n",
    "\n",
    "    # Sort the movies based on the similarity scores\n",
    "    similar_scores = sorted(similar_scores, key=lambda x: x[1], reverse=True)\n",
    "\n",
    "    # Get the scores of the top most similar movies\n",
    "    similar_scores = similar_scores[1:num_recommendations + 1]\n",
    "\n",
    "    # Get the movie indices\n",
    "    movie_indices = [i[0] for i in similar_scores]\n",
    "\n",
    "    # Return the top most similar movies\n",
    "    return df_films['title'].iloc[movie_indices]\n"
   ]
  },
  {
   "cell_type": "markdown",
   "id": "fe11d08e",
   "metadata": {},
   "source": [
    "We can now test the recommendation system with my brother's favourite movie, \"The Dark Knight Rises\""
   ]
  },
  {
   "cell_type": "code",
   "execution_count": 31,
   "id": "074cfaa0",
   "metadata": {},
   "outputs": [
    {
     "data": {
      "text/plain": [
       "299                              Batman Forever\n",
       "65                              The Dark Knight\n",
       "1359                                     Batman\n",
       "428                              Batman Returns\n",
       "2507                                  Slow Burn\n",
       "3854    Batman: The Dark Knight Returns, Part 2\n",
       "119                               Batman Begins\n",
       "210                              Batman & Robin\n",
       "9            Batman v Superman: Dawn of Justice\n",
       "1181                                        JFK\n",
       "Name: title, dtype: object"
      ]
     },
     "execution_count": 31,
     "metadata": {},
     "output_type": "execute_result"
    }
   ],
   "source": [
    "test_movie = \"The Dark Knight Rises\"\n",
    "recommend_movies(test_movie)"
   ]
  },
  {
   "cell_type": "markdown",
   "id": "36f6d1e2",
   "metadata": {},
   "source": [
    "I suppose he has seen all of them, because they are clearly similar, but that means the recommendation system (greatly content-based) is working!"
   ]
  },
  {
   "cell_type": "markdown",
   "id": "2f5949eb",
   "metadata": {},
   "source": [
    "Let's see which terms were used to retrieve these recommendations to understand a bit better how it worked. Again, we will extract the movie index, the frequencies of each term as an array, get the \"feature names\" or the most used ones"
   ]
  },
  {
   "cell_type": "code",
   "execution_count": 32,
   "id": "3e02b3a3",
   "metadata": {},
   "outputs": [
    {
     "data": {
      "text/html": [
       "<div>\n",
       "<style scoped>\n",
       "    .dataframe tbody tr th:only-of-type {\n",
       "        vertical-align: middle;\n",
       "    }\n",
       "\n",
       "    .dataframe tbody tr th {\n",
       "        vertical-align: top;\n",
       "    }\n",
       "\n",
       "    .dataframe thead th {\n",
       "        text-align: right;\n",
       "    }\n",
       "</style>\n",
       "<table border=\"1\" class=\"dataframe\">\n",
       "  <thead>\n",
       "    <tr style=\"text-align: right;\">\n",
       "      <th></th>\n",
       "      <th>Term</th>\n",
       "      <th>Term Weight (TF-IDF)</th>\n",
       "    </tr>\n",
       "  </thead>\n",
       "  <tbody>\n",
       "    <tr>\n",
       "      <th>1207</th>\n",
       "      <td>dent</td>\n",
       "      <td>0.353773</td>\n",
       "    </tr>\n",
       "    <tr>\n",
       "      <th>1936</th>\n",
       "      <td>gotham</td>\n",
       "      <td>0.335109</td>\n",
       "    </tr>\n",
       "    <tr>\n",
       "      <th>445</th>\n",
       "      <td>batman</td>\n",
       "      <td>0.335109</td>\n",
       "    </tr>\n",
       "    <tr>\n",
       "      <th>372</th>\n",
       "      <td>attorney</td>\n",
       "      <td>0.291919</td>\n",
       "    </tr>\n",
       "    <tr>\n",
       "      <th>3483</th>\n",
       "      <td>protect</td>\n",
       "      <td>0.233403</td>\n",
       "    </tr>\n",
       "    <tr>\n",
       "      <th>827</th>\n",
       "      <td>city</td>\n",
       "      <td>0.183968</td>\n",
       "    </tr>\n",
       "    <tr>\n",
       "      <th>3709</th>\n",
       "      <td>resurfaces</td>\n",
       "      <td>0.173339</td>\n",
       "    </tr>\n",
       "    <tr>\n",
       "      <th>3701</th>\n",
       "      <td>responsibility</td>\n",
       "      <td>0.173339</td>\n",
       "    </tr>\n",
       "    <tr>\n",
       "      <th>350</th>\n",
       "      <td>assumes</td>\n",
       "      <td>0.170265</td>\n",
       "    </tr>\n",
       "    <tr>\n",
       "      <th>2533</th>\n",
       "      <td>kyle</td>\n",
       "      <td>0.167555</td>\n",
       "    </tr>\n",
       "    <tr>\n",
       "      <th>4781</th>\n",
       "      <td>villainous</td>\n",
       "      <td>0.165130</td>\n",
       "    </tr>\n",
       "    <tr>\n",
       "      <th>2047</th>\n",
       "      <td>harvey</td>\n",
       "      <td>0.162936</td>\n",
       "    </tr>\n",
       "    <tr>\n",
       "      <th>2516</th>\n",
       "      <td>knight</td>\n",
       "      <td>0.154312</td>\n",
       "    </tr>\n",
       "    <tr>\n",
       "      <th>1209</th>\n",
       "      <td>department</td>\n",
       "      <td>0.154312</td>\n",
       "    </tr>\n",
       "    <tr>\n",
       "      <th>3679</th>\n",
       "      <td>reputation</td>\n",
       "      <td>0.154312</td>\n",
       "    </tr>\n",
       "    <tr>\n",
       "      <th>2205</th>\n",
       "      <td>hunted</td>\n",
       "      <td>0.152917</td>\n",
       "    </tr>\n",
       "    <tr>\n",
       "      <th>1078</th>\n",
       "      <td>crimes</td>\n",
       "      <td>0.148053</td>\n",
       "    </tr>\n",
       "    <tr>\n",
       "      <th>1323</th>\n",
       "      <td>district</td>\n",
       "      <td>0.148053</td>\n",
       "    </tr>\n",
       "    <tr>\n",
       "      <th>4447</th>\n",
       "      <td>terrorist</td>\n",
       "      <td>0.134403</td>\n",
       "    </tr>\n",
       "    <tr>\n",
       "      <th>1488</th>\n",
       "      <td>encounters</td>\n",
       "      <td>0.134403</td>\n",
       "    </tr>\n",
       "  </tbody>\n",
       "</table>\n",
       "</div>"
      ],
      "text/plain": [
       "                Term  Term Weight (TF-IDF)\n",
       "1207            dent              0.353773\n",
       "1936          gotham              0.335109\n",
       "445           batman              0.335109\n",
       "372         attorney              0.291919\n",
       "3483         protect              0.233403\n",
       "827             city              0.183968\n",
       "3709      resurfaces              0.173339\n",
       "3701  responsibility              0.173339\n",
       "350          assumes              0.170265\n",
       "2533            kyle              0.167555\n",
       "4781      villainous              0.165130\n",
       "2047          harvey              0.162936\n",
       "2516          knight              0.154312\n",
       "1209      department              0.154312\n",
       "3679      reputation              0.154312\n",
       "2205          hunted              0.152917\n",
       "1078          crimes              0.148053\n",
       "1323        district              0.148053\n",
       "4447       terrorist              0.134403\n",
       "1488      encounters              0.134403"
      ]
     },
     "execution_count": 32,
     "metadata": {},
     "output_type": "execute_result"
    }
   ],
   "source": [
    "# Extract the index of \"The Dark Knight Rises\"\n",
    "movie_idx = df_films[df_films['title'] == 'The Dark Knight Rises'].index[0]\n",
    "\n",
    "# Extract the term frequency and weight for \"TDKR\"\n",
    "term_weights = tfidf_matrix[movie_idx].toarray().flatten()\n",
    "\n",
    "# Get the feature names (terms) from the vectorizers\n",
    "feature_names = summary_vectors.get_feature_names_out()\n",
    "\n",
    "# Create a DataFrame\n",
    "term_df = pd.DataFrame({\n",
    "    'Term': feature_names,\n",
    "    'Term Weight (TF-IDF)': term_weights\n",
    "})\n",
    "\n",
    "# Sort the DataFrame based on Term Weight from TF-IDF and get top N terms\n",
    "N = 20\n",
    "top_terms_tfidf = term_df.sort_values(by='Term Weight (TF-IDF)', ascending=False).head(N)\n",
    "\n",
    "top_terms_tfidf\n",
    "\n"
   ]
  },
  {
   "cell_type": "markdown",
   "id": "393b5882",
   "metadata": {},
   "source": [
    "gotham, batman, protect, resurfaces... it totally sounds like my brother's taste. "
   ]
  },
  {
   "cell_type": "markdown",
   "id": "af4bdc29",
   "metadata": {},
   "source": [
    "## 3. Collaborative ranking: if someone like you liked this, you'll like this as well"
   ]
  },
  {
   "cell_type": "markdown",
   "id": "8c82a1ed",
   "metadata": {},
   "source": [
    "This method relies on other users' behaviours to recommend items you have not seen, but has been watched by those who consume similar content to your preferences. It scores each user in similarity to your likings, somehow like the content-based approach but among users, and it ranks those that behave most similar. \n",
    "\n",
    "This can be computed either in terms of the rankings you give to movies (how did you like a movie) or in terms of watching history (what did you watch previously). \n",
    "\n",
    "This type of recommendations uses predictions to calculate the correlation between user's tastes. This correlation can be computed with similar methods as before, in order to \"cluster neighboors\". \n",
    "\n",
    "It can also be calculated in the reverse order: first you find similarity between two movies such as the content-based approach, and then you find similar users to recommend those similar movies. The math behind are pretty much the same. \n",
    "\n",
    "Now we will work with the MovieLense database, which has user data as well, to see how this would work. The data is divided into 23 dataframes, so we will read some of them, the 'user' (users info), 'data' (ratings) and 'item' (genres) dfs. The dfs do not have column titles so we will have to give some to them (they are indicated in the readme file, they are not madeup). "
   ]
  },
  {
   "cell_type": "code",
   "execution_count": 33,
   "id": "ee8e5bb6",
   "metadata": {},
   "outputs": [],
   "source": [
    "u_columns = ['user_id', 'age', 'gender', 'occupation', 'zip_code']\n",
    "users = pd.read_csv('data/ml-100k/u.user', sep='|', names=u_columns,encoding='latin-1')\n",
    "\n",
    "#Reading ratings file:\n",
    "r_columns = ['user_id', 'movie_id', 'rating', 'unix_timestamp']\n",
    "ratings = pd.read_csv('data/ml-100k/u.data', sep='\\t', names=r_columns,encoding='latin-1')\n",
    "\n",
    "#Reading items file:\n",
    "i_columns = ['movie_id', 'movie_title' ,'release_date','video_release_date', 'IMDb URL', 'unknown', 'Action', 'Adventure',\n",
    "'Animation', 'Children\\'s', 'Comedy', 'Crime', 'Documentary', 'Drama', 'Fantasy', 'Film-Noir', 'Horror', 'Musical', 'Mystery', 'Romance', 'Sci-Fi', 'Thriller', 'War', 'Western']\n",
    "\n",
    "items = pd.read_csv('data/ml-100k/u.item', sep='|', names=i_columns,encoding='latin-1')"
   ]
  },
  {
   "cell_type": "code",
   "execution_count": 34,
   "id": "8f21a68e",
   "metadata": {},
   "outputs": [
    {
     "data": {
      "text/html": [
       "<div>\n",
       "<style scoped>\n",
       "    .dataframe tbody tr th:only-of-type {\n",
       "        vertical-align: middle;\n",
       "    }\n",
       "\n",
       "    .dataframe tbody tr th {\n",
       "        vertical-align: top;\n",
       "    }\n",
       "\n",
       "    .dataframe thead th {\n",
       "        text-align: right;\n",
       "    }\n",
       "</style>\n",
       "<table border=\"1\" class=\"dataframe\">\n",
       "  <thead>\n",
       "    <tr style=\"text-align: right;\">\n",
       "      <th></th>\n",
       "      <th>user_id</th>\n",
       "      <th>age</th>\n",
       "      <th>gender</th>\n",
       "      <th>occupation</th>\n",
       "      <th>zip_code</th>\n",
       "    </tr>\n",
       "  </thead>\n",
       "  <tbody>\n",
       "    <tr>\n",
       "      <th>0</th>\n",
       "      <td>1</td>\n",
       "      <td>24</td>\n",
       "      <td>M</td>\n",
       "      <td>technician</td>\n",
       "      <td>85711</td>\n",
       "    </tr>\n",
       "    <tr>\n",
       "      <th>1</th>\n",
       "      <td>2</td>\n",
       "      <td>53</td>\n",
       "      <td>F</td>\n",
       "      <td>other</td>\n",
       "      <td>94043</td>\n",
       "    </tr>\n",
       "    <tr>\n",
       "      <th>2</th>\n",
       "      <td>3</td>\n",
       "      <td>23</td>\n",
       "      <td>M</td>\n",
       "      <td>writer</td>\n",
       "      <td>32067</td>\n",
       "    </tr>\n",
       "    <tr>\n",
       "      <th>3</th>\n",
       "      <td>4</td>\n",
       "      <td>24</td>\n",
       "      <td>M</td>\n",
       "      <td>technician</td>\n",
       "      <td>43537</td>\n",
       "    </tr>\n",
       "    <tr>\n",
       "      <th>4</th>\n",
       "      <td>5</td>\n",
       "      <td>33</td>\n",
       "      <td>F</td>\n",
       "      <td>other</td>\n",
       "      <td>15213</td>\n",
       "    </tr>\n",
       "  </tbody>\n",
       "</table>\n",
       "</div>"
      ],
      "text/plain": [
       "   user_id  age gender  occupation zip_code\n",
       "0        1   24      M  technician    85711\n",
       "1        2   53      F       other    94043\n",
       "2        3   23      M      writer    32067\n",
       "3        4   24      M  technician    43537\n",
       "4        5   33      F       other    15213"
      ]
     },
     "execution_count": 34,
     "metadata": {},
     "output_type": "execute_result"
    }
   ],
   "source": [
    "users.head()\n"
   ]
  },
  {
   "cell_type": "markdown",
   "id": "b871f002",
   "metadata": {},
   "source": [
    "Let's do a simple EDA to understand the user group in the database so we can understand the context of the recommendations as well.  "
   ]
  },
  {
   "cell_type": "code",
   "execution_count": 35,
   "id": "688394da",
   "metadata": {},
   "outputs": [
    {
     "data": {
      "text/html": [
       "<div>\n",
       "<style scoped>\n",
       "    .dataframe tbody tr th:only-of-type {\n",
       "        vertical-align: middle;\n",
       "    }\n",
       "\n",
       "    .dataframe tbody tr th {\n",
       "        vertical-align: top;\n",
       "    }\n",
       "\n",
       "    .dataframe thead th {\n",
       "        text-align: right;\n",
       "    }\n",
       "</style>\n",
       "<table border=\"1\" class=\"dataframe\">\n",
       "  <thead>\n",
       "    <tr style=\"text-align: right;\">\n",
       "      <th></th>\n",
       "      <th>user_id</th>\n",
       "      <th>age</th>\n",
       "    </tr>\n",
       "  </thead>\n",
       "  <tbody>\n",
       "    <tr>\n",
       "      <th>count</th>\n",
       "      <td>943.000000</td>\n",
       "      <td>943.000000</td>\n",
       "    </tr>\n",
       "    <tr>\n",
       "      <th>mean</th>\n",
       "      <td>472.000000</td>\n",
       "      <td>34.051962</td>\n",
       "    </tr>\n",
       "    <tr>\n",
       "      <th>std</th>\n",
       "      <td>272.364951</td>\n",
       "      <td>12.192740</td>\n",
       "    </tr>\n",
       "    <tr>\n",
       "      <th>min</th>\n",
       "      <td>1.000000</td>\n",
       "      <td>7.000000</td>\n",
       "    </tr>\n",
       "    <tr>\n",
       "      <th>25%</th>\n",
       "      <td>236.500000</td>\n",
       "      <td>25.000000</td>\n",
       "    </tr>\n",
       "    <tr>\n",
       "      <th>50%</th>\n",
       "      <td>472.000000</td>\n",
       "      <td>31.000000</td>\n",
       "    </tr>\n",
       "    <tr>\n",
       "      <th>75%</th>\n",
       "      <td>707.500000</td>\n",
       "      <td>43.000000</td>\n",
       "    </tr>\n",
       "    <tr>\n",
       "      <th>max</th>\n",
       "      <td>943.000000</td>\n",
       "      <td>73.000000</td>\n",
       "    </tr>\n",
       "  </tbody>\n",
       "</table>\n",
       "</div>"
      ],
      "text/plain": [
       "          user_id         age\n",
       "count  943.000000  943.000000\n",
       "mean   472.000000   34.051962\n",
       "std    272.364951   12.192740\n",
       "min      1.000000    7.000000\n",
       "25%    236.500000   25.000000\n",
       "50%    472.000000   31.000000\n",
       "75%    707.500000   43.000000\n",
       "max    943.000000   73.000000"
      ]
     },
     "execution_count": 35,
     "metadata": {},
     "output_type": "execute_result"
    }
   ],
   "source": [
    "users.describe()"
   ]
  },
  {
   "cell_type": "markdown",
   "id": "02661b53",
   "metadata": {},
   "source": [
    "So we have a cohort of people from 7 to 73 years, with an average of 34, so the group can be considered diverse in terms of age. Let's plot it"
   ]
  },
  {
   "cell_type": "code",
   "execution_count": 36,
   "id": "9a211fe9",
   "metadata": {},
   "outputs": [
    {
     "data": {
      "image/png": "[encoded data removed]",
      "text/plain": [
       "<Figure size 1000x600 with 1 Axes>"
      ]
     },
     "metadata": {},
     "output_type": "display_data"
    }
   ],
   "source": [
    "import seaborn as sns\n",
    "\n",
    "sns.set_style(\"whitegrid\")\n",
    "plt.figure(figsize=(10, 6))\n",
    "sns.histplot(users['age'], bins=30, kde=True, color='skyblue')\n",
    "plt.title('Age Distribution of Users')\n",
    "plt.xlabel('Age')\n",
    "plt.ylabel('Number of Users')\n",
    "plt.show()"
   ]
  },
  {
   "cell_type": "markdown",
   "id": "9515f217",
   "metadata": {},
   "source": [
    "Well... it is a little bit left-skewed, but movie platform users tend to be as well. Let's look at gender distribution now. "
   ]
  },
  {
   "cell_type": "code",
   "execution_count": 37,
   "id": "9f3a998c",
   "metadata": {},
   "outputs": [
    {
     "data": {
      "image/png": "[encoded data removed]",
      "text/plain": [
       "<Figure size 800x600 with 1 Axes>"
      ]
     },
     "metadata": {},
     "output_type": "display_data"
    }
   ],
   "source": [
    "# Plot the gender distribution\n",
    "plt.figure(figsize=(8, 6))\n",
    "sns.countplot(x='gender', data=users, palette=\"pastel\")\n",
    "plt.title('Gender Distribution of Users')\n",
    "plt.xlabel('Gender')\n",
    "plt.ylabel('Number of Users')\n",
    "plt.show()"
   ]
  },
  {
   "cell_type": "markdown",
   "id": "a11b0316",
   "metadata": {},
   "source": [
    "Here we can find a bit of a misrepresentation, which should be taking into account when creating a recommendation system based on user-filtering, for example."
   ]
  },
  {
   "cell_type": "markdown",
   "id": "129ef193",
   "metadata": {},
   "source": [
    "Let's examine the occupation, which gives us an overrepresentation of students, maybe because this dataframe was built by U. Minnesota. "
   ]
  },
  {
   "cell_type": "code",
   "execution_count": 38,
   "id": "56280a84",
   "metadata": {},
   "outputs": [
    {
     "data": {
      "image/png": "[encoded data removed]",
      "text/plain": [
       "<Figure size 1500x800 with 1 Axes>"
      ]
     },
     "metadata": {},
     "output_type": "display_data"
    }
   ],
   "source": [
    "\n",
    "plt.figure(figsize=(15, 8))\n",
    "sns.countplot(y='occupation', data=users, order=users['occupation'].value_counts().index, palette=\"pastel\")\n",
    "plt.title('Occupation Distribution of Users')\n",
    "plt.xlabel('Number of Users')\n",
    "plt.ylabel('Occupation')\n",
    "plt.show()\n"
   ]
  },
  {
   "cell_type": "markdown",
   "id": "283acbc8",
   "metadata": {},
   "source": [
    "We can even identify the average age of people in each occupation group, to cluster them. "
   ]
  },
  {
   "cell_type": "code",
   "execution_count": 39,
   "id": "806d0a86",
   "metadata": {},
   "outputs": [
    {
     "name": "stderr",
     "output_type": "stream",
     "text": [
      "/var/folders/r4/6f7pdj5x0l9_s41fykfrscq40000gn/T/ipykernel_44173/1775930813.py:2: FutureWarning: The default value of numeric_only in DataFrameGroupBy.mean is deprecated. In a future version, numeric_only will default to False. Either specify numeric_only or select only columns which should be valid for the function.\n",
      "  sns.barplot(y='occupation', x='age', data=users, estimator=np.mean, ci=None, palette=\"pastel\", order=users.groupby('occupation').mean()['age'].sort_values().index)\n",
      "/var/folders/r4/6f7pdj5x0l9_s41fykfrscq40000gn/T/ipykernel_44173/1775930813.py:2: FutureWarning: \n",
      "\n",
      "The `ci` parameter is deprecated. Use `errorbar=None` for the same effect.\n",
      "\n",
      "  sns.barplot(y='occupation', x='age', data=users, estimator=np.mean, ci=None, palette=\"pastel\", order=users.groupby('occupation').mean()['age'].sort_values().index)\n"
     ]
    },
    {
     "data": {
      "image/png": "[encoded data removed]",
      "text/plain": [
       "<Figure size 1500x800 with 1 Axes>"
      ]
     },
     "metadata": {},
     "output_type": "display_data"
    }
   ],
   "source": [
    "plt.figure(figsize=(15, 8))\n",
    "sns.barplot(y='occupation', x='age', data=users, estimator=np.mean, ci=None, palette=\"pastel\", order=users.groupby('occupation').mean()['age'].sort_values().index)\n",
    "plt.title('Average Age by Occupation')\n",
    "plt.xlabel('Average Age')\n",
    "plt.ylabel('Occupation')\n",
    "plt.show()"
   ]
  },
  {
   "cell_type": "markdown",
   "id": "3e98e6fc",
   "metadata": {},
   "source": [
    "Now let's look at the ratings file, which has each user's rating for each movie, everything in id codes. "
   ]
  },
  {
   "cell_type": "code",
   "execution_count": 40,
   "id": "283871bc",
   "metadata": {},
   "outputs": [
    {
     "data": {
      "text/html": [
       "<div>\n",
       "<style scoped>\n",
       "    .dataframe tbody tr th:only-of-type {\n",
       "        vertical-align: middle;\n",
       "    }\n",
       "\n",
       "    .dataframe tbody tr th {\n",
       "        vertical-align: top;\n",
       "    }\n",
       "\n",
       "    .dataframe thead th {\n",
       "        text-align: right;\n",
       "    }\n",
       "</style>\n",
       "<table border=\"1\" class=\"dataframe\">\n",
       "  <thead>\n",
       "    <tr style=\"text-align: right;\">\n",
       "      <th></th>\n",
       "      <th>user_id</th>\n",
       "      <th>movie_id</th>\n",
       "      <th>rating</th>\n",
       "      <th>unix_timestamp</th>\n",
       "    </tr>\n",
       "  </thead>\n",
       "  <tbody>\n",
       "    <tr>\n",
       "      <th>0</th>\n",
       "      <td>196</td>\n",
       "      <td>242</td>\n",
       "      <td>3</td>\n",
       "      <td>881250949</td>\n",
       "    </tr>\n",
       "    <tr>\n",
       "      <th>1</th>\n",
       "      <td>186</td>\n",
       "      <td>302</td>\n",
       "      <td>3</td>\n",
       "      <td>891717742</td>\n",
       "    </tr>\n",
       "    <tr>\n",
       "      <th>2</th>\n",
       "      <td>22</td>\n",
       "      <td>377</td>\n",
       "      <td>1</td>\n",
       "      <td>878887116</td>\n",
       "    </tr>\n",
       "    <tr>\n",
       "      <th>3</th>\n",
       "      <td>244</td>\n",
       "      <td>51</td>\n",
       "      <td>2</td>\n",
       "      <td>880606923</td>\n",
       "    </tr>\n",
       "    <tr>\n",
       "      <th>4</th>\n",
       "      <td>166</td>\n",
       "      <td>346</td>\n",
       "      <td>1</td>\n",
       "      <td>886397596</td>\n",
       "    </tr>\n",
       "  </tbody>\n",
       "</table>\n",
       "</div>"
      ],
      "text/plain": [
       "   user_id  movie_id  rating  unix_timestamp\n",
       "0      196       242       3       881250949\n",
       "1      186       302       3       891717742\n",
       "2       22       377       1       878887116\n",
       "3      244        51       2       880606923\n",
       "4      166       346       1       886397596"
      ]
     },
     "execution_count": 40,
     "metadata": {},
     "output_type": "execute_result"
    }
   ],
   "source": [
    "ratings.head()\n"
   ]
  },
  {
   "cell_type": "code",
   "execution_count": 41,
   "id": "d71583c4",
   "metadata": {},
   "outputs": [
    {
     "data": {
      "text/plain": [
       "(100000, 4)"
      ]
     },
     "execution_count": 41,
     "metadata": {},
     "output_type": "execute_result"
    }
   ],
   "source": [
    "ratings.shape #Number of total ratings among each user and each film"
   ]
  },
  {
   "cell_type": "code",
   "execution_count": 42,
   "id": "9a3574fe",
   "metadata": {},
   "outputs": [
    {
     "data": {
      "text/html": [
       "<div>\n",
       "<style scoped>\n",
       "    .dataframe tbody tr th:only-of-type {\n",
       "        vertical-align: middle;\n",
       "    }\n",
       "\n",
       "    .dataframe tbody tr th {\n",
       "        vertical-align: top;\n",
       "    }\n",
       "\n",
       "    .dataframe thead th {\n",
       "        text-align: right;\n",
       "    }\n",
       "</style>\n",
       "<table border=\"1\" class=\"dataframe\">\n",
       "  <thead>\n",
       "    <tr style=\"text-align: right;\">\n",
       "      <th></th>\n",
       "      <th>movie_id</th>\n",
       "      <th>movie_title</th>\n",
       "      <th>release_date</th>\n",
       "      <th>video_release_date</th>\n",
       "      <th>IMDb URL</th>\n",
       "      <th>unknown</th>\n",
       "      <th>Action</th>\n",
       "      <th>Adventure</th>\n",
       "      <th>Animation</th>\n",
       "      <th>Children's</th>\n",
       "      <th>...</th>\n",
       "      <th>Fantasy</th>\n",
       "      <th>Film-Noir</th>\n",
       "      <th>Horror</th>\n",
       "      <th>Musical</th>\n",
       "      <th>Mystery</th>\n",
       "      <th>Romance</th>\n",
       "      <th>Sci-Fi</th>\n",
       "      <th>Thriller</th>\n",
       "      <th>War</th>\n",
       "      <th>Western</th>\n",
       "    </tr>\n",
       "  </thead>\n",
       "  <tbody>\n",
       "    <tr>\n",
       "      <th>0</th>\n",
       "      <td>1</td>\n",
       "      <td>Toy Story (1995)</td>\n",
       "      <td>01-Jan-1995</td>\n",
       "      <td>NaN</td>\n",
       "      <td>http://us.imdb.com/M/title-exact?Toy%20Story%2...</td>\n",
       "      <td>0</td>\n",
       "      <td>0</td>\n",
       "      <td>0</td>\n",
       "      <td>1</td>\n",
       "      <td>1</td>\n",
       "      <td>...</td>\n",
       "      <td>0</td>\n",
       "      <td>0</td>\n",
       "      <td>0</td>\n",
       "      <td>0</td>\n",
       "      <td>0</td>\n",
       "      <td>0</td>\n",
       "      <td>0</td>\n",
       "      <td>0</td>\n",
       "      <td>0</td>\n",
       "      <td>0</td>\n",
       "    </tr>\n",
       "    <tr>\n",
       "      <th>1</th>\n",
       "      <td>2</td>\n",
       "      <td>GoldenEye (1995)</td>\n",
       "      <td>01-Jan-1995</td>\n",
       "      <td>NaN</td>\n",
       "      <td>http://us.imdb.com/M/title-exact?GoldenEye%20(...</td>\n",
       "      <td>0</td>\n",
       "      <td>1</td>\n",
       "      <td>1</td>\n",
       "      <td>0</td>\n",
       "      <td>0</td>\n",
       "      <td>...</td>\n",
       "      <td>0</td>\n",
       "      <td>0</td>\n",
       "      <td>0</td>\n",
       "      <td>0</td>\n",
       "      <td>0</td>\n",
       "      <td>0</td>\n",
       "      <td>0</td>\n",
       "      <td>1</td>\n",
       "      <td>0</td>\n",
       "      <td>0</td>\n",
       "    </tr>\n",
       "    <tr>\n",
       "      <th>2</th>\n",
       "      <td>3</td>\n",
       "      <td>Four Rooms (1995)</td>\n",
       "      <td>01-Jan-1995</td>\n",
       "      <td>NaN</td>\n",
       "      <td>http://us.imdb.com/M/title-exact?Four%20Rooms%...</td>\n",
       "      <td>0</td>\n",
       "      <td>0</td>\n",
       "      <td>0</td>\n",
       "      <td>0</td>\n",
       "      <td>0</td>\n",
       "      <td>...</td>\n",
       "      <td>0</td>\n",
       "      <td>0</td>\n",
       "      <td>0</td>\n",
       "      <td>0</td>\n",
       "      <td>0</td>\n",
       "      <td>0</td>\n",
       "      <td>0</td>\n",
       "      <td>1</td>\n",
       "      <td>0</td>\n",
       "      <td>0</td>\n",
       "    </tr>\n",
       "    <tr>\n",
       "      <th>3</th>\n",
       "      <td>4</td>\n",
       "      <td>Get Shorty (1995)</td>\n",
       "      <td>01-Jan-1995</td>\n",
       "      <td>NaN</td>\n",
       "      <td>http://us.imdb.com/M/title-exact?Get%20Shorty%...</td>\n",
       "      <td>0</td>\n",
       "      <td>1</td>\n",
       "      <td>0</td>\n",
       "      <td>0</td>\n",
       "      <td>0</td>\n",
       "      <td>...</td>\n",
       "      <td>0</td>\n",
       "      <td>0</td>\n",
       "      <td>0</td>\n",
       "      <td>0</td>\n",
       "      <td>0</td>\n",
       "      <td>0</td>\n",
       "      <td>0</td>\n",
       "      <td>0</td>\n",
       "      <td>0</td>\n",
       "      <td>0</td>\n",
       "    </tr>\n",
       "    <tr>\n",
       "      <th>4</th>\n",
       "      <td>5</td>\n",
       "      <td>Copycat (1995)</td>\n",
       "      <td>01-Jan-1995</td>\n",
       "      <td>NaN</td>\n",
       "      <td>http://us.imdb.com/M/title-exact?Copycat%20(1995)</td>\n",
       "      <td>0</td>\n",
       "      <td>0</td>\n",
       "      <td>0</td>\n",
       "      <td>0</td>\n",
       "      <td>0</td>\n",
       "      <td>...</td>\n",
       "      <td>0</td>\n",
       "      <td>0</td>\n",
       "      <td>0</td>\n",
       "      <td>0</td>\n",
       "      <td>0</td>\n",
       "      <td>0</td>\n",
       "      <td>0</td>\n",
       "      <td>1</td>\n",
       "      <td>0</td>\n",
       "      <td>0</td>\n",
       "    </tr>\n",
       "  </tbody>\n",
       "</table>\n",
       "<p>5 rows × 24 columns</p>\n",
       "</div>"
      ],
      "text/plain": [
       "   movie_id        movie_title release_date  video_release_date  \\\n",
       "0         1   Toy Story (1995)  01-Jan-1995                 NaN   \n",
       "1         2   GoldenEye (1995)  01-Jan-1995                 NaN   \n",
       "2         3  Four Rooms (1995)  01-Jan-1995                 NaN   \n",
       "3         4  Get Shorty (1995)  01-Jan-1995                 NaN   \n",
       "4         5     Copycat (1995)  01-Jan-1995                 NaN   \n",
       "\n",
       "                                            IMDb URL  unknown  Action  \\\n",
       "0  http://us.imdb.com/M/title-exact?Toy%20Story%2...        0       0   \n",
       "1  http://us.imdb.com/M/title-exact?GoldenEye%20(...        0       1   \n",
       "2  http://us.imdb.com/M/title-exact?Four%20Rooms%...        0       0   \n",
       "3  http://us.imdb.com/M/title-exact?Get%20Shorty%...        0       1   \n",
       "4  http://us.imdb.com/M/title-exact?Copycat%20(1995)        0       0   \n",
       "\n",
       "   Adventure  Animation  Children's  ...  Fantasy  Film-Noir  Horror  Musical  \\\n",
       "0          0          1           1  ...        0          0       0        0   \n",
       "1          1          0           0  ...        0          0       0        0   \n",
       "2          0          0           0  ...        0          0       0        0   \n",
       "3          0          0           0  ...        0          0       0        0   \n",
       "4          0          0           0  ...        0          0       0        0   \n",
       "\n",
       "   Mystery  Romance  Sci-Fi  Thriller  War  Western  \n",
       "0        0        0       0         0    0        0  \n",
       "1        0        0       0         1    0        0  \n",
       "2        0        0       0         1    0        0  \n",
       "3        0        0       0         0    0        0  \n",
       "4        0        0       0         1    0        0  \n",
       "\n",
       "[5 rows x 24 columns]"
      ]
     },
     "execution_count": 42,
     "metadata": {},
     "output_type": "execute_result"
    }
   ],
   "source": [
    "items.head()"
   ]
  },
  {
   "cell_type": "code",
   "execution_count": 43,
   "id": "dd4ee387",
   "metadata": {},
   "outputs": [
    {
     "data": {
      "text/plain": [
       "(1682, 24)"
      ]
     },
     "execution_count": 43,
     "metadata": {},
     "output_type": "execute_result"
    }
   ],
   "source": [
    "items.shape #number of movies"
   ]
  },
  {
   "cell_type": "markdown",
   "id": "d6a05f45",
   "metadata": {},
   "source": [
    "Now that we have explored our data, let's build the third and last recommendation system"
   ]
  },
  {
   "cell_type": "markdown",
   "id": "de50ecbb",
   "metadata": {},
   "source": [
    "## How to code a collaborative-filtering rec system"
   ]
  },
  {
   "cell_type": "code",
   "execution_count": 44,
   "id": "bd5f7554",
   "metadata": {},
   "outputs": [],
   "source": [
    "n_users = ratings.user_id.unique().shape[0] #Number of users we will work with\n",
    "n_items = ratings.movie_id.unique().shape[0] #Number of movies we will work with"
   ]
  },
  {
   "cell_type": "markdown",
   "id": "d132fc61",
   "metadata": {},
   "source": [
    "We will need a matrix of every user and every movie to later combine with the individual ratings. "
   ]
  },
  {
   "cell_type": "code",
   "execution_count": 45,
   "id": "3e2b1a78",
   "metadata": {},
   "outputs": [],
   "source": [
    "data_matrix = np.zeros((n_users, n_items))\n",
    "for line in ratings.itertuples():\n",
    "    data_matrix[line[1]-1, line[2]-1] = line[3]"
   ]
  },
  {
   "cell_type": "markdown",
   "id": "9dc6e695",
   "metadata": {},
   "source": [
    "In this case we are going to use the pairwise_distances pack from Scikit-learn, using the cosine similarity as well, but in this case it allows us to work with multiple distances at the same time (users and movies)"
   ]
  },
  {
   "cell_type": "code",
   "execution_count": 46,
   "id": "7b256552",
   "metadata": {},
   "outputs": [],
   "source": [
    "from sklearn.metrics.pairwise import pairwise_distances \n",
    "user_similarity = pairwise_distances(data_matrix, metric='cosine')\n",
    "movie_similarity = pairwise_distances(data_matrix.T, metric='cosine')"
   ]
  },
  {
   "cell_type": "markdown",
   "id": "5a19fedc",
   "metadata": {},
   "source": [
    "And now let's define the predictive model. We will need to calculate the mean of every rating a user has done, to later substract every rating for every movie to \"center\" the ratings around 0, which will be easier for the prediction model. \n",
    "\n",
    "The prediction for a user is then calculated as the weighted sum of the ratings around 0 (deviations) of all other users, where the weights are the similarity scores between users. Finally, it adds the mean rating again to give a final prediction for the user. \n",
    "\n",
    "In this case, you have to define an elif case, for those movies that do not have ratings or those users that have not rated any move (new cases), for which the prediction is calculated as the weighted sum of all ratings, where the weights are the similarity scores between the target item and other items.\n",
    "\n",
    "The result pred is a matrix of the same shape as ratings, containing the predicted ratings for each user-item pair. This is conveniente since you can compute matrix operations such as the dot product, which makes it easier to find the similarity. "
   ]
  },
  {
   "cell_type": "code",
   "execution_count": 47,
   "id": "317d473d",
   "metadata": {},
   "outputs": [],
   "source": [
    "def collaborative_filter_model (ratings, similarity, type='user'):\n",
    "    \n",
    "    if type == 'user':\n",
    "        mean_user_rating = ratings.mean(axis=1).reshape(-1,1)\n",
    "        \n",
    "        ratings_diff = (ratings - mean_user_rating)\n",
    "        pred = mean_user_rating + similarity.dot(ratings_diff) / np.array([np.abs(similarity).sum(axis=1)]).T\n",
    "    \n",
    "    elif type == 'item':\n",
    "        pred = ratings.dot(similarity) / np.array([np.abs(similarity).sum(axis=1)])\n",
    "    \n",
    "    return pred"
   ]
  },
  {
   "cell_type": "code",
   "execution_count": 48,
   "id": "6450b9aa",
   "metadata": {},
   "outputs": [],
   "source": [
    "user_prediction = collaborative_filter_model(data_matrix, user_similarity, type='user')\n",
    "item_prediction = collaborative_filter_model(data_matrix, movie_similarity, type='item')"
   ]
  },
  {
   "cell_type": "markdown",
   "id": "d79d73dc",
   "metadata": {},
   "source": [
    "Let's select a random movie title to test this model"
   ]
  },
  {
   "cell_type": "code",
   "execution_count": 49,
   "id": "54b2ccb6",
   "metadata": {},
   "outputs": [
    {
     "data": {
      "text/plain": [
       "'Some Folks Call It a Sling Blade (1993)'"
      ]
     },
     "execution_count": 49,
     "metadata": {},
     "output_type": "execute_result"
    }
   ],
   "source": [
    "random_movie = items.sample(1).iloc[0]\n",
    "random_movie_title = random_movie['movie_title']\n",
    "random_movie_title"
   ]
  },
  {
   "cell_type": "markdown",
   "id": "3735fbe4",
   "metadata": {},
   "source": [
    "We got Back to the Future (1985). Pretty convenient for this project. Shall we? We will use the item_prediction matrix for this, and we need its movie id for that. "
   ]
  },
  {
   "cell_type": "code",
   "execution_count": 50,
   "id": "de2e50b3",
   "metadata": {},
   "outputs": [],
   "source": [
    "back_to_future_id = items[items['movie_title'] == 'Back to the Future (1985)'].movie_id.values\n"
   ]
  },
  {
   "cell_type": "code",
   "execution_count": 51,
   "id": "7c37b081",
   "metadata": {},
   "outputs": [
    {
     "data": {
      "text/plain": [
       "array([204])"
      ]
     },
     "execution_count": 51,
     "metadata": {},
     "output_type": "execute_result"
    }
   ],
   "source": [
    "back_to_future_id #Id number 204"
   ]
  },
  {
   "cell_type": "markdown",
   "id": "564aad83",
   "metadata": {},
   "source": [
    "Now let's perform the model. First we will need to retrieve similarity scores with a matrix where each row corresponds each movie and each column, the similarity scores with every other movie. To get the row where our selected movie is, since Python uses 0-based indexing, we need to substract 1. "
   ]
  },
  {
   "cell_type": "code",
   "execution_count": 52,
   "id": "7034cb8b",
   "metadata": {},
   "outputs": [],
   "source": [
    "similarities = movie_similarity[back_to_future_id[0]-1]"
   ]
  },
  {
   "cell_type": "markdown",
   "id": "c3c9667e",
   "metadata": {},
   "source": [
    "Now, we can sort the top five scorers in similarity. "
   ]
  },
  {
   "cell_type": "code",
   "execution_count": 53,
   "id": "13df01f7",
   "metadata": {},
   "outputs": [],
   "source": [
    "top_movie_indices = similarities.argsort()[1:6]  # Excluding the first one as it will be \"Back to the Future (1985)\" itself\n",
    "top_movie_similarities = similarities[top_movie_indices]"
   ]
  },
  {
   "cell_type": "markdown",
   "id": "5a1eba4d",
   "metadata": {},
   "source": [
    "And now, we can get the movie titles themselves"
   ]
  },
  {
   "cell_type": "code",
   "execution_count": 54,
   "id": "74182860",
   "metadata": {},
   "outputs": [
    {
     "data": {
      "text/plain": [
       "(array(['Indiana Jones and the Last Crusade (1989)',\n",
       "        'Raiders of the Lost Ark (1981)',\n",
       "        'Empire Strikes Back, The (1980)', 'Groundhog Day (1993)',\n",
       "        'Monty Python and the Holy Grail (1974)'], dtype=object),\n",
       " array([0.22982785, 0.23044122, 0.24515842, 0.26625201, 0.27145369]))"
      ]
     },
     "execution_count": 54,
     "metadata": {},
     "output_type": "execute_result"
    }
   ],
   "source": [
    "\n",
    "top_movie_titles = items.iloc[top_movie_indices]['movie_title'].values\n",
    "\n",
    "top_movie_titles, top_movie_similarities"
   ]
  },
  {
   "cell_type": "markdown",
   "id": "80707d81",
   "metadata": {},
   "source": [
    "So it is recommending some other 80s classic movies, it works! "
   ]
  },
  {
   "cell_type": "markdown",
   "id": "ca6509d4",
   "metadata": {},
   "source": [
    "This last recommendation system is way more complex and I did rely on the incredible Python community in Github to understand different snippets of code, as well as Stackoverflow for some trouble shooting (and some ChatGPT for some definitions of code I needed to understand ) but all in all, it as been a great excercise, extensive and comprehensive, but has accelerated my learning process, my search of resources and my overall understanding of recommendation systems."
   ]
  }
 ],
 "metadata": {
  "kernelspec": {
   "display_name": "Python 3 (ipykernel)",
   "language": "python",
   "name": "python3"
  },
  "language_info": {
   "codemirror_mode": {
    "name": "ipython",
    "version": 3
   },
   "file_extension": ".py",
   "mimetype": "text/x-python",
   "name": "python",
   "nbconvert_exporter": "python",
   "pygments_lexer": "ipython3",
   "version": "3.11.4"
  }
 },
 "nbformat": 4,
 "nbformat_minor": 5
}
